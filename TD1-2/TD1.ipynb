{
 "cells": [
  {
   "cell_type": "code",
   "execution_count": 1,
   "metadata": {},
   "outputs": [],
   "source": [
    "def centre_carre(n):\n",
    "    return ((n**2)//(10**5))%(10**10)"
   ]
  },
  {
   "cell_type": "code",
   "execution_count": 2,
   "metadata": {},
   "outputs": [
    {
     "data": {
      "text/plain": [
       "3040504030"
      ]
     },
     "execution_count": 2,
     "metadata": {},
     "output_type": "execute_result"
    }
   ],
   "source": [
    "centre_carre(1010101010)"
   ]
  },
  {
   "cell_type": "code",
   "execution_count": 3,
   "metadata": {},
   "outputs": [
    {
     "data": {
      "text/plain": [
       "100000"
      ]
     },
     "execution_count": 3,
     "metadata": {},
     "output_type": "execute_result"
    }
   ],
   "source": [
    "centre_carre(100000)"
   ]
  },
  {
   "cell_type": "code",
   "execution_count": 4,
   "metadata": {},
   "outputs": [],
   "source": [
    "def loop_cc(n,d):\n",
    "    for i in range(d):\n",
    "        n = centre_carre(n)\n",
    "        print(n)"
   ]
  },
  {
   "cell_type": "code",
   "execution_count": 5,
   "metadata": {},
   "outputs": [
    {
     "name": "stdout",
     "output_type": "stream",
     "text": [
      "1020304030\n",
      "203136342\n",
      "2643734411\n",
      "3316359055\n",
      "2373816804\n",
      "62189527\n",
      "8675372684\n",
      "912062933\n",
      "8587937525\n",
      "6709333031\n"
     ]
    }
   ],
   "source": [
    "loop_cc(10101010,10)"
   ]
  },
  {
   "cell_type": "code",
   "execution_count": 6,
   "metadata": {},
   "outputs": [],
   "source": [
    "def centre_carre2(n):\n",
    "    return ((n**2)//(10))%(100)"
   ]
  },
  {
   "cell_type": "code",
   "execution_count": 7,
   "metadata": {
    "scrolled": true
   },
   "outputs": [
    {
     "name": "stdout",
     "output_type": "stream",
     "text": [
      "0\n",
      "0\n",
      "0\n",
      "0\n",
      "1\n",
      "2\n",
      "3\n",
      "4\n",
      "6\n",
      "8\n",
      "10\n",
      "12\n",
      "14\n",
      "16\n",
      "19\n",
      "22\n",
      "25\n",
      "28\n",
      "32\n",
      "36\n",
      "40\n",
      "44\n",
      "48\n",
      "52\n",
      "57\n",
      "62\n",
      "67\n",
      "72\n",
      "78\n",
      "84\n",
      "90\n",
      "96\n",
      "2\n",
      "8\n",
      "15\n",
      "22\n",
      "29\n",
      "36\n",
      "44\n",
      "52\n",
      "60\n",
      "68\n",
      "76\n",
      "84\n",
      "93\n",
      "2\n",
      "11\n",
      "20\n",
      "30\n",
      "40\n",
      "50\n",
      "60\n",
      "70\n",
      "80\n",
      "91\n",
      "2\n",
      "13\n",
      "24\n",
      "36\n",
      "48\n",
      "60\n",
      "72\n",
      "84\n",
      "96\n",
      "9\n",
      "22\n",
      "35\n",
      "48\n",
      "62\n",
      "76\n",
      "90\n",
      "4\n",
      "18\n",
      "32\n",
      "47\n",
      "62\n",
      "77\n",
      "92\n",
      "8\n",
      "24\n",
      "40\n",
      "56\n",
      "72\n",
      "88\n",
      "5\n",
      "22\n",
      "39\n",
      "56\n",
      "74\n",
      "92\n",
      "10\n",
      "28\n",
      "46\n",
      "64\n",
      "83\n",
      "2\n",
      "21\n",
      "40\n",
      "60\n",
      "80\n",
      "0\n"
     ]
    }
   ],
   "source": [
    "for i in range(101):\n",
    "    print(centre_carre2(i))"
   ]
  },
  {
   "cell_type": "code",
   "execution_count": 8,
   "metadata": {
    "scrolled": true
   },
   "outputs": [
    {
     "name": "stdout",
     "output_type": "stream",
     "text": [
      "0 0 []\n",
      "1 1 [0]\n",
      "2 1 [0]\n",
      "3 1 [0]\n",
      "4 2 [1, 0]\n",
      "5 2 [2, 0]\n",
      "6 2 [3, 0]\n",
      "7 3 [4, 1, 0]\n",
      "8 3 [6, 3, 0]\n",
      "9 4 [8, 6, 3, 0]\n",
      "10 2 [10, 10]\n",
      "11 9 [12, 14, 19, 36, 29, 84, 5, 2, 0]\n",
      "12 8 [14, 19, 36, 29, 84, 5, 2, 0]\n",
      "13 7 [16, 25, 62, 84, 5, 2, 0]\n",
      "14 7 [19, 36, 29, 84, 5, 2, 0]\n",
      "15 6 [22, 48, 30, 90, 10, 10]\n",
      "16 6 [25, 62, 84, 5, 2, 0]\n",
      "17 6 [28, 78, 8, 6, 3, 0]\n",
      "18 3 [32, 2, 0]\n",
      "19 6 [36, 29, 84, 5, 2, 0]\n",
      "20 3 [40, 60, 60]\n",
      "21 8 [44, 93, 64, 9, 8, 6, 3, 0]\n",
      "22 5 [48, 30, 90, 10, 10]\n",
      "23 5 [52, 70, 90, 10, 10]\n",
      "24 3 [57, 24, 57]\n",
      "25 5 [62, 84, 5, 2, 0]\n",
      "26 6 [67, 48, 30, 90, 10, 10]\n",
      "27 5 [72, 18, 32, 2, 0]\n",
      "28 5 [78, 8, 6, 3, 0]\n",
      "29 4 [84, 5, 2, 0]\n",
      "30 3 [90, 10, 10]\n",
      "31 10 [96, 21, 44, 93, 64, 9, 8, 6, 3, 0]\n",
      "32 2 [2, 0]\n",
      "33 4 [8, 6, 3, 0]\n",
      "34 7 [15, 22, 48, 30, 90, 10, 10]\n",
      "35 6 [22, 48, 30, 90, 10, 10]\n",
      "36 5 [29, 84, 5, 2, 0]\n",
      "37 6 [36, 29, 84, 5, 2, 0]\n",
      "38 8 [44, 93, 64, 9, 8, 6, 3, 0]\n",
      "39 5 [52, 70, 90, 10, 10]\n",
      "40 2 [60, 60]\n",
      "41 6 [68, 62, 84, 5, 2, 0]\n",
      "42 14 [76, 77, 92, 46, 11, 12, 14, 19, 36, 29, 84, 5, 2, 0]\n",
      "43 4 [84, 5, 2, 0]\n",
      "44 7 [93, 64, 9, 8, 6, 3, 0]\n",
      "45 2 [2, 0]\n",
      "46 10 [11, 12, 14, 19, 36, 29, 84, 5, 2, 0]\n",
      "47 4 [20, 40, 60, 60]\n",
      "48 4 [30, 90, 10, 10]\n",
      "49 3 [40, 60, 60]\n",
      "50 2 [50, 50]\n",
      "51 2 [60, 60]\n",
      "52 4 [70, 90, 10, 10]\n",
      "53 4 [80, 40, 60, 60]\n",
      "54 7 [91, 28, 78, 8, 6, 3, 0]\n",
      "55 2 [2, 0]\n",
      "56 8 [13, 16, 25, 62, 84, 5, 2, 0]\n",
      "57 3 [24, 57, 24]\n",
      "58 6 [36, 29, 84, 5, 2, 0]\n",
      "59 5 [48, 30, 90, 10, 10]\n",
      "60 2 [60, 60]\n",
      "61 5 [72, 18, 32, 2, 0]\n",
      "62 4 [84, 5, 2, 0]\n",
      "63 10 [96, 21, 44, 93, 64, 9, 8, 6, 3, 0]\n",
      "64 5 [9, 8, 6, 3, 0]\n",
      "65 6 [22, 48, 30, 90, 10, 10]\n",
      "66 7 [35, 22, 48, 30, 90, 10, 10]\n",
      "67 5 [48, 30, 90, 10, 10]\n",
      "68 5 [62, 84, 5, 2, 0]\n",
      "69 14 [76, 77, 92, 46, 11, 12, 14, 19, 36, 29, 84, 5, 2, 0]\n",
      "70 3 [90, 10, 10]\n",
      "71 3 [4, 1, 0]\n",
      "72 4 [18, 32, 2, 0]\n",
      "73 3 [32, 2, 0]\n",
      "74 5 [47, 20, 40, 60, 60]\n",
      "75 5 [62, 84, 5, 2, 0]\n",
      "76 13 [77, 92, 46, 11, 12, 14, 19, 36, 29, 84, 5, 2, 0]\n",
      "77 12 [92, 46, 11, 12, 14, 19, 36, 29, 84, 5, 2, 0]\n",
      "78 4 [8, 6, 3, 0]\n",
      "79 3 [24, 57, 24]\n",
      "80 3 [40, 60, 60]\n",
      "81 9 [56, 13, 16, 25, 62, 84, 5, 2, 0]\n",
      "82 5 [72, 18, 32, 2, 0]\n",
      "83 7 [88, 74, 47, 20, 40, 60, 60]\n",
      "84 3 [5, 2, 0]\n",
      "85 6 [22, 48, 30, 90, 10, 10]\n",
      "86 6 [39, 52, 70, 90, 10, 10]\n",
      "87 9 [56, 13, 16, 25, 62, 84, 5, 2, 0]\n",
      "88 6 [74, 47, 20, 40, 60, 60]\n",
      "89 12 [92, 46, 11, 12, 14, 19, 36, 29, 84, 5, 2, 0]\n",
      "90 2 [10, 10]\n",
      "91 6 [28, 78, 8, 6, 3, 0]\n",
      "92 11 [46, 11, 12, 14, 19, 36, 29, 84, 5, 2, 0]\n",
      "93 6 [64, 9, 8, 6, 3, 0]\n",
      "94 8 [83, 88, 74, 47, 20, 40, 60, 60]\n",
      "95 2 [2, 0]\n",
      "96 9 [21, 44, 93, 64, 9, 8, 6, 3, 0]\n",
      "97 3 [40, 60, 60]\n",
      "98 2 [60, 60]\n",
      "99 4 [80, 40, 60, 60]\n"
     ]
    }
   ],
   "source": [
    "for i in range(100):\n",
    "    l = []\n",
    "    val = i\n",
    "    cpt = 0\n",
    "    while not val == 0:\n",
    "        val = centre_carre2(val)\n",
    "        if val in l:\n",
    "            l.append(val)\n",
    "            break;\n",
    "        l.append(val)\n",
    "    print(i,len(l),l)\n",
    "            \n",
    "        "
   ]
  },
  {
   "cell_type": "code",
   "execution_count": 9,
   "metadata": {},
   "outputs": [],
   "source": [
    "#ex6\n",
    "def gen_congru(a,c,m,seed):\n",
    "    res = (((a*seed)+c)%m)\n",
    "    res0 = res >> 16\n",
    "    if res0 >= 2**31:\n",
    "        res0 = res0 - (2**32)\n",
    "    return res,res0#%(2**16)\n",
    "    \n",
    "    "
   ]
  },
  {
   "cell_type": "code",
   "execution_count": 10,
   "metadata": {},
   "outputs": [
    {
     "name": "stdout",
     "output_type": "stream",
     "text": [
      "11 0\n",
      "277363943098 4232237\n",
      "11718085204285 178803790\n",
      "49720483695876 758674372\n",
      "102626409374399 1565954732\n",
      "25707281917278 392261992\n",
      "25979478236433 396415378\n",
      "137139456763464 2092582042\n",
      "148267022728371 -2032592072\n",
      "127911637363266 1951776693\n"
     ]
    }
   ],
   "source": [
    "s = 0\n",
    "for i in range(10):\n",
    "    s,g = gen_congru(25214903917,11,2**48,s)\n",
    "    print(s,g)"
   ]
  },
  {
   "cell_type": "code",
   "execution_count": 11,
   "metadata": {},
   "outputs": [
    {
     "data": {
      "text/plain": [
       "(218806073956766, -956251568)"
      ]
     },
     "execution_count": 11,
     "metadata": {},
     "output_type": "execute_result"
    }
   ],
   "source": [
    "gen_congru(25214903917,11,2**48,156079716630527)"
   ]
  },
  {
   "cell_type": "code",
   "execution_count": 12,
   "metadata": {},
   "outputs": [
    {
     "name": "stdout",
     "output_type": "stream",
     "text": [
      "-956251568\n",
      "-2113186618\n",
      "1962154824\n",
      "449949881\n",
      "-1374163520\n",
      "392258983\n",
      "-571805163\n",
      "-1144661338\n",
      "-596646227\n",
      "154393544\n"
     ]
    }
   ],
   "source": [
    "s = 156079716630527\n",
    "for i in range(10):\n",
    "    s,g = gen_congru(25214903917,11,2**48,s)\n",
    "    print(g)"
   ]
  },
  {
   "cell_type": "code",
   "execution_count": 13,
   "metadata": {},
   "outputs": [],
   "source": [
    "import itertools\n",
    "#ex9\n",
    "def trouveX(nb,res0):\n",
    "    nbB = bin(nb)[2:]\n",
    "    resB = bin(res0)[2:]\n",
    "    res = '0'\n",
    "    if (resB[-1] == nbB[-1]):\n",
    "        res = '1'\n",
    "        \n",
    "    i = 0\n",
    "    incertains = []\n",
    "    incertain = False\n",
    "    safe = 1000\n",
    "    while(int(nbB,2) * int(res,2) !=  res0 and safe >= 0):  \n",
    "        safe -= 1\n",
    "        if(int(nbB,2) * int(res,2) > res0):\n",
    "            indice = 0\n",
    "            for j in range(len(incertains)):\n",
    "                if(incertains[j][1] % 2 == 1):\n",
    "                    indice = j\n",
    "                    incertains[j][1] += 1\n",
    "                    incertains = incertains[:j+1]\n",
    "                    break                   \n",
    "            res = list(res)\n",
    "            res.remove('1')\n",
    "            while(i > incertains[indice][0] + 1):\n",
    "                res = res[1:]\n",
    "                i -= 1\n",
    "            res = ' '.join(res).replace(' ','')\n",
    "            incertains = []\n",
    "            incertain = True\n",
    "        i += 1\n",
    "        resTmp = int(nbB,2) * int(res,2)\n",
    "        resComp = int(nbB,2) * int('1' + res,2)\n",
    "        if(resB[(-1-i)] == bin(resTmp)[(-1-i)] and (not incertain)):\n",
    "            res = '0' + res\n",
    "            if(bin(resTmp)[(-1-i)] == bin(resComp)[(-1-i)]):\n",
    "                incertains.append([i,1])\n",
    "        else:\n",
    "            res = '1' + res\n",
    "        incertain = False\n",
    "        #print(res)\n",
    "        \n",
    "    \n",
    "    return int(res)"
   ]
  },
  {
   "cell_type": "code",
   "execution_count": 14,
   "metadata": {
    "scrolled": true
   },
   "outputs": [
    {
     "data": {
      "text/plain": [
       "1101"
      ]
     },
     "execution_count": 14,
     "metadata": {},
     "output_type": "execute_result"
    }
   ],
   "source": [
    "trouveX(14,182)"
   ]
  },
  {
   "cell_type": "code",
   "execution_count": 15,
   "metadata": {},
   "outputs": [
    {
     "name": "stdout",
     "output_type": "stream",
     "text": [
      "13\n",
      "424712908620\n"
     ]
    }
   ],
   "source": [
    "print(int('1101',2))\n",
    "print(424242*1001110)"
   ]
  },
  {
   "cell_type": "code",
   "execution_count": 16,
   "metadata": {},
   "outputs": [
    {
     "name": "stdout",
     "output_type": "stream",
     "text": [
      "200000.0\n"
     ]
    }
   ],
   "source": [
    "print(84848400000/424242)"
   ]
  }
 ],
 "metadata": {
  "kernelspec": {
   "display_name": "Python 3",
   "language": "python",
   "name": "python3"
  },
  "language_info": {
   "codemirror_mode": {
    "name": "ipython",
    "version": 3
   },
   "file_extension": ".py",
   "mimetype": "text/x-python",
   "name": "python",
   "nbconvert_exporter": "python",
   "pygments_lexer": "ipython3",
   "version": "3.7.6"
  }
 },
 "nbformat": 4,
 "nbformat_minor": 4
}
