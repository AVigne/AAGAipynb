{
 "cells": [
  {
   "cell_type": "code",
   "execution_count": 1,
   "metadata": {},
   "outputs": [],
   "source": [
    "def removeFiles(path):\n",
    "    files = glob.glob(path)\n",
    "    for file in files:\n",
    "        os.remove(file)"
   ]
  },
  {
   "cell_type": "code",
   "execution_count": 2,
   "metadata": {},
   "outputs": [],
   "source": [
    "# EXO 13 : Compression\n",
    "import os\n",
    "import array\n",
    "import random\n",
    "import subprocess\n",
    "\n",
    "def kolmoCompression(proportion, filePath, display = False):\n",
    "    '''\n",
    "    Genere et compresse un fichier de 1 mega octet de bits\n",
    "    La methode retourne alors la taille du fichier compressé\n",
    "    '''\n",
    "    mo_unit = 8*1024*1024\n",
    "    listBits = \"\"\n",
    "    with open(filePath, 'bw') as fp:\n",
    "\n",
    "        for _ in range (mo_unit):\n",
    "            bitGen = random.uniform(0,1)\n",
    "            bitGen = \"1\" if bitGen<proportion else \"0\"\n",
    "            listBits += bitGen\n",
    "        i=0\n",
    "        buffer = bytearray()\n",
    "        while i < len(listBits):\n",
    "            buffer.append(int(listBits[i:i+8], 2))\n",
    "            i += 8\n",
    "\n",
    "        fp.write(buffer)\n",
    "    fp.close()\n",
    "\n",
    "    file_stats = os.stat(filePath)\n",
    "    if (display):\n",
    "        print(f'{filePath} Size before compress in MegaOctets = {file_stats.st_size / (mo_unit/8)} Mo')\n",
    "\n",
    "    \n",
    "    subprocess.call(['cp', filePath, filePath+\".bin\"])\n",
    "    subprocess.call(['gzip', filePath])\n",
    "\n",
    "    file_stats = os.stat(filePath+\".gz\")\n",
    "    if (display):\n",
    "        print(f'{filePath} Size after compress in MegaOctets = {file_stats.st_size / (mo_unit/8):.2f} Mo')\n",
    "    \n",
    "    return file_stats.st_size / (mo_unit/8)"
   ]
  },
  {
   "cell_type": "code",
   "execution_count": 3,
   "metadata": {},
   "outputs": [
    {
     "name": "stdout",
     "output_type": "stream",
     "text": [
      "Génerer des fichiers de 1Mo avec differentes proportions de bit 1\n",
      "0.0 - 0.1 - 0.2 - 0.3 - 0.4 - 0.5 - 0.6 - 0.7 - 0.8 - 0.9 - 1.0\n"
     ]
    }
   ],
   "source": [
    "import glob\n",
    "import math\n",
    "import matplotlib.pyplot as plt\n",
    "\n",
    "def complexKolmo():\n",
    "    '''\n",
    "    Calcule kolmoCompression() la taille d'un fichiers compressé\n",
    "    Pour les differentes proportion de bit 1 dans la suite.\n",
    "    Affichage d'un graphe représentatif avec celle de l'entropie.\n",
    "    '''\n",
    "    \n",
    "    path = \"compressions/\"\n",
    "    if (not os.path.exists(path)):\n",
    "        os.mkdir(path, 755)\n",
    "    files = glob.glob(path+'*')\n",
    "    for file in files:\n",
    "        os.remove(file)\n",
    "    res = []\n",
    "    print(\"Génerer des fichiers de 1Mo avec differentes proportions de bit 1\") \n",
    "    for i in range(0,11):\n",
    "        res.append(kolmoCompression(\n",
    "            (i/10),\n",
    "            path+\"prop\"+str(i*10)+\"%\"))\n",
    "        print(i/10, end=' - ' if i!=10 else '\\n')\n",
    "    \n",
    "    return res\n",
    "    \n",
    "sizes = complexKolmo()\n",
    "\n",
    "entropie = []\n",
    "for i in range (11):\n",
    "    x = i/10\n",
    "    if (x==0 or x==1): x = 0\n",
    "    else: x = -x*math.log2(x) - (1-x)*math.log2(1-x)\n",
    "    entropie.append(x)"
   ]
  },
  {
   "cell_type": "code",
   "execution_count": 4,
   "metadata": {},
   "outputs": [
    {
     "data": {
      "text/plain": [
       "<matplotlib.legend.Legend at 0x1ef774fa5f8>"
      ]
     },
     "execution_count": 4,
     "metadata": {},
     "output_type": "execute_result"
    },
    {
     "data": {
      "image/png": "[encoded data removed]",
      "text/plain": [
       "<Figure size 432x288 with 1 Axes>"
      ]
     },
     "metadata": {
      "needs_background": "light"
     },
     "output_type": "display_data"
    }
   ],
   "source": [
    "fig, ax = plt.subplots()\n",
    "ax.plot([i/10 for i in range(11)], sizes, label='compression')\n",
    "ax.plot([i/10 for i in range(11)], entropie, label='entropie')\n",
    "plt.xlabel('Proportion de bit 1')\n",
    "plt.ylabel('Taille du fichier compressé')\n",
    "plt.legend()"
   ]
  },
  {
   "cell_type": "code",
   "execution_count": null,
   "metadata": {},
   "outputs": [],
   "source": []
  }
 ],
 "metadata": {
  "kernelspec": {
   "display_name": "Python 3",
   "language": "python",
   "name": "python3"
  },
  "language_info": {
   "codemirror_mode": {
    "name": "ipython",
    "version": 3
   },
   "file_extension": ".py",
   "mimetype": "text/x-python",
   "name": "python",
   "nbconvert_exporter": "python",
   "pygments_lexer": "ipython3",
   "version": "3.7.6"
  }
 },
 "nbformat": 4,
 "nbformat_minor": 4
}
