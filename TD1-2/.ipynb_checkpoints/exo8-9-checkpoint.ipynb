{
 "cells": [
  {
   "cell_type": "markdown",
   "metadata": {},
   "source": [
    "Exercice 8"
   ]
  },
  {
   "cell_type": "markdown",
   "metadata": {},
   "source": [
    "Question 1"
   ]
  },
  {
   "cell_type": "markdown",
   "metadata": {},
   "source": [
    "Réponse 1"
   ]
  },
  {
   "cell_type": "markdown",
   "metadata": {},
   "source": [
    "Question 2"
   ]
  },
  {
   "cell_type": "markdown",
   "metadata": {},
   "source": [
    "Réponse 2"
   ]
  },
  {
   "cell_type": "code",
   "execution_count": 10,
   "metadata": {},
   "outputs": [],
   "source": [
    "#question 3\n",
    "\n",
    "def gen_java(seed):\n",
    "    a = 25214903917\n",
    "    c = 11\n",
    "    m = 2**48\n",
    "    res = (((a*seed)+c)%m)\n",
    "    res0 = res >> 16\n",
    "    if res0 >= 2**31:\n",
    "        res0 = res0 - (2**32)\n",
    "    return res,res0\n",
    "\n",
    "def trouveV148(V132,V2):\n",
    "    if V132 < 0:\n",
    "        V132 += 2**32\n",
    "    V148 = V132 << 16\n",
    "    for i in range(V148,V148+2**16):\n",
    "        s,g = gen_java(i)\n",
    "        if g == V2:\n",
    "            return i\n",
    "    return -1"
   ]
  },
  {
   "cell_type": "code",
   "execution_count": 12,
   "metadata": {},
   "outputs": [
    {
     "name": "stdout",
     "output_type": "stream",
     "text": [
      "(218806073956766, -956251568)\n",
      "(199522364333083, -1250497626)\n"
     ]
    },
    {
     "data": {
      "text/plain": [
       "218806073956766"
      ]
     },
     "execution_count": 12,
     "metadata": {},
     "output_type": "execute_result"
    }
   ],
   "source": [
    "#test sur un exemple\n",
    "print(gen_java(156079716630527))\n",
    "print(gen_java(-956251568))\n",
    "trouveV148(-956251568,-2113186618)"
   ]
  },
  {
   "cell_type": "markdown",
   "metadata": {},
   "source": [
    "Le test sur un exemple est validé, on trouve bien l'entier sur 48 bits généré par le premier appel "
   ]
  },
  {
   "cell_type": "code",
   "execution_count": 24,
   "metadata": {
    "scrolled": true
   },
   "outputs": [],
   "source": [
    "#test sur 500 exemples \n",
    "import random\n",
    "seed = random.randint(0,2**48)\n",
    "s0,g0 = gen_java(seed)\n",
    "for i in range(500):\n",
    "    s1,g1 = gen_java(s0)\n",
    "    s0recover = trouveV148(g0,g1)\n",
    "    if s0recover != s0:\n",
    "        print(\"entier non retrouvé\")\n",
    "        break;\n",
    "    s0 = s1\n",
    "    g0 = g1"
   ]
  },
  {
   "cell_type": "code",
   "execution_count": null,
   "metadata": {},
   "outputs": [],
   "source": []
  },
  {
   "cell_type": "markdown",
   "metadata": {},
   "source": [
    "Exercice 9"
   ]
  },
  {
   "cell_type": "markdown",
   "metadata": {},
   "source": [
    "Question 1"
   ]
  },
  {
   "cell_type": "markdown",
   "metadata": {},
   "source": [
    "        1101\n",
    "       *1110\n",
    "       -----\n",
    "        0000\n",
    "       11010\n",
    "      110100\n",
    "     1101000\n",
    "     -------\n",
    "     1222110"
   ]
  },
  {
   "cell_type": "markdown",
   "metadata": {},
   "source": [
    "Question 2"
   ]
  },
  {
   "cell_type": "markdown",
   "metadata": {},
   "source": [
    "        1101\n",
    "       *1110\n",
    "       -----\n",
    "        0000\n",
    "       11010\n",
    "      110100\n",
    "     1101000\n",
    "     -------\n",
    "    10110110"
   ]
  },
  {
   "cell_type": "code",
   "execution_count": 1,
   "metadata": {},
   "outputs": [],
   "source": [
    "#question 3\n",
    "def trouveX(nb,res):\n",
    "    if nb == 1:\n",
    "        return res\n",
    "    for i in range(res):\n",
    "        if nb*i == res:\n",
    "            return i\n",
    "        if nb*i > res:\n",
    "            return -1\n",
    "    return -1"
   ]
  },
  {
   "cell_type": "code",
   "execution_count": 4,
   "metadata": {},
   "outputs": [],
   "source": [
    "#question 4-5\n",
    "def crackJavaRandom(v1,v2):\n",
    "    a = 25214903917\n",
    "    c = 11\n",
    "    m = 2**48\n",
    "    v148 = trouveV148(v1,v2)\n",
    "    v148 -= c\n",
    "    oldSeed = -1 \n",
    "    while oldSeed < 0:\n",
    "        oldSeed = trouveX(a,v148)\n",
    "        v148 += m\n",
    "    oldSeed = oldSeed >> 16\n",
    "    if oldSeed > 2**31:\n",
    "        oldSeed -= 2**32\n",
    "    return oldSeed"
   ]
  }
 ],
 "metadata": {
  "kernelspec": {
   "display_name": "Python 3",
   "language": "python",
   "name": "python3"
  },
  "language_info": {
   "codemirror_mode": {
    "name": "ipython",
    "version": 3
   },
   "file_extension": ".py",
   "mimetype": "text/x-python",
   "name": "python",
   "nbconvert_exporter": "python",
   "pygments_lexer": "ipython3",
   "version": "3.7.6"
  }
 },
 "nbformat": 4,
 "nbformat_minor": 4
}
