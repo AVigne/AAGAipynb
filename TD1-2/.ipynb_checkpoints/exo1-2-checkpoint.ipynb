{
 "cells": [
  {
   "cell_type": "markdown",
   "metadata": {},
   "source": [
    "Exercice 1"
   ]
  },
  {
   "cell_type": "code",
   "execution_count": 2,
   "metadata": {},
   "outputs": [],
   "source": [
    "#algo de Neumann (question 3)\n",
    "def centre_carre(n):\n",
    "    return ((n**2)//(10**5))%(10**10)"
   ]
  },
  {
   "cell_type": "code",
   "execution_count": 3,
   "metadata": {},
   "outputs": [
    {
     "data": {
      "text/plain": [
       "3040504030"
      ]
     },
     "execution_count": 3,
     "metadata": {},
     "output_type": "execute_result"
    }
   ],
   "source": [
    "#question 1\n",
    "centre_carre(1010101010)"
   ]
  },
  {
   "cell_type": "code",
   "execution_count": 4,
   "metadata": {},
   "outputs": [
    {
     "data": {
      "text/plain": [
       "100000"
      ]
     },
     "execution_count": 4,
     "metadata": {},
     "output_type": "execute_result"
    }
   ],
   "source": [
    "#question 2\n",
    "centre_carre(100000)"
   ]
  },
  {
   "cell_type": "code",
   "execution_count": 5,
   "metadata": {},
   "outputs": [],
   "source": [
    "#générateur pour la question 4\n",
    "def loop_cc(n,d):\n",
    "    for i in range(d):\n",
    "        n = centre_carre(n)\n",
    "        print(n)"
   ]
  },
  {
   "cell_type": "code",
   "execution_count": 6,
   "metadata": {},
   "outputs": [
    {
     "name": "stdout",
     "output_type": "stream",
     "text": [
      "1578750190\n",
      "4521624250\n",
      "858581880\n",
      "1628446643\n",
      "8384690979\n",
      "428133239\n",
      "2980703366\n",
      "5925560837\n",
      "2712329881\n",
      "7333833654\n"
     ]
    }
   ],
   "source": [
    "#question 4\n",
    "loop_cc(1234567890,10)"
   ]
  },
  {
   "cell_type": "markdown",
   "metadata": {},
   "source": [
    "Exercice 2"
   ]
  },
  {
   "cell_type": "code",
   "execution_count": 7,
   "metadata": {},
   "outputs": [],
   "source": [
    "#question 1\n",
    "def centre_carre2(n):\n",
    "    return ((n**2)//(10))%(100)"
   ]
  },
  {
   "cell_type": "code",
   "execution_count": 8,
   "metadata": {},
   "outputs": [
    {
     "name": "stdout",
     "output_type": "stream",
     "text": [
      "61\n"
     ]
    }
   ],
   "source": [
    "#question 2\n",
    "cpt = 0\n",
    "for i in range(100):\n",
    "    l = []\n",
    "    val = i\n",
    "    while not val == 0:\n",
    "        val = centre_carre2(val)\n",
    "        if val in l:\n",
    "            l.append(val)\n",
    "            break;\n",
    "        l.append(val)\n",
    "        if val == 0:\n",
    "            cpt += 1\n",
    "    #print(i,len(l),l)\n",
    "print(cpt)\n",
    "\n",
    "#La conséquence de l'apparition de 00 est une répétition de 00 à l'infini"
   ]
  },
  {
   "cell_type": "code",
   "execution_count": 9,
   "metadata": {},
   "outputs": [
    {
     "name": "stdout",
     "output_type": "stream",
     "text": [
      "14 [42, 69]\n"
     ]
    }
   ],
   "source": [
    "#question 3\n",
    "cptMax = -1\n",
    "seedMax = []\n",
    "for i in range(100):\n",
    "    l = []\n",
    "    val = i\n",
    "    cpt = 0\n",
    "    while not val == 0:\n",
    "        val = centre_carre2(val)\n",
    "        cpt += 1\n",
    "        if val in l:\n",
    "            l.append(val)\n",
    "            break;\n",
    "        l.append(val)\n",
    "    if cpt > cptMax:\n",
    "        cptMax = cpt\n",
    "        seedMax = []\n",
    "    if cpt == cptMax:\n",
    "        seedMax.append(i)\n",
    "print(cptMax,seedMax)"
   ]
  }
 ],
 "metadata": {
  "kernelspec": {
   "display_name": "Python 3",
   "language": "python",
   "name": "python3"
  },
  "language_info": {
   "codemirror_mode": {
    "name": "ipython",
    "version": 3
   },
   "file_extension": ".py",
   "mimetype": "text/x-python",
   "name": "python",
   "nbconvert_exporter": "python",
   "pygments_lexer": "ipython3",
   "version": "3.7.6"
  }
 },
 "nbformat": 4,
 "nbformat_minor": 4
}
