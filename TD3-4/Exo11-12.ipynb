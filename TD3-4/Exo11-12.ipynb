{
 "cells": [
  {
   "cell_type": "markdown",
   "metadata": {},
   "source": [
    "# Exercice 11\n",
    "\n",
    "### Question 11.1"
   ]
  },
  {
   "cell_type": "code",
   "execution_count": 13,
   "metadata": {},
   "outputs": [],
   "source": [
    "class Node:\n",
    "\n",
    "    def __init__(self, data):\n",
    "\n",
    "        self.left = None\n",
    "        self.right = None\n",
    "        self.data = data\n",
    "        self.profondeur = 0\n",
    "\n",
    "        \n",
    "    def contient(self, lkpval):\n",
    "        if lkpval == self.data:\n",
    "            return True\n",
    "        b1 = False\n",
    "        b2 = False\n",
    "        if self.left:\n",
    "            b1 = self.left.contient(lkpval)\n",
    "        if (not b1) and self.right:\n",
    "            b2 = self.right.contient(lkpval)\n",
    "        return b1 or b2 \n",
    "    \n",
    "            \n",
    "    def nbFils(self):\n",
    "        fg = 0\n",
    "        fd = 0\n",
    "        if self.left:\n",
    "            a,b = self.left.nbFils()\n",
    "            fg = a + b + 1\n",
    "        if self.right:\n",
    "            a,b = self.right.nbFils()\n",
    "            fd = a + b + 1\n",
    "        return fg,fd\n",
    "        \n",
    "    def getNode(self,lkpval):\n",
    "        if lkpval == self.data:\n",
    "            return self\n",
    "        b1 = None\n",
    "        b2 = None\n",
    "        if self.left:\n",
    "            b1 = self.left.contient(lkpval)\n",
    "        if (not b1) and self.right:\n",
    "            b2 = self.right.contient(lkpval)\n",
    "        if b1:\n",
    "            return b1\n",
    "        return b2\n",
    "     \n",
    "        \n",
    "    def isFeuille(self):\n",
    "        return self.left == None and self.right == None"
   ]
  },
  {
   "cell_type": "markdown",
   "metadata": {},
   "source": [
    "### Question 11.2 \n",
    "\n",
    "La construction de structure donnée dans l'énoncé fait construire des arbres ayant n feuilles, mais dans l'exercice 10 on dit que n est la taille de l'arbre en nombre de noeuds (internes + feuilles)  \n",
    "Je sais pas trop quoi penser, donc j'ai fait 2 versions"
   ]
  },
  {
   "cell_type": "code",
   "execution_count": 2,
   "metadata": {},
   "outputs": [],
   "source": [
    "def gen_abr(n):\n",
    "    root = Node(None)\n",
    "    feuilles = [root]\n",
    "    for i in range(n-1):\n",
    "        indice = random.randrange(len(feuilles))\n",
    "        feuille = feuilles[indice]\n",
    "        feuilles.remove(feuille)\n",
    "        \n",
    "        feuille.left = Node(None)\n",
    "        feuille.right = Node(None)\n",
    "        \n",
    "        feuilles.append(feuille.left)\n",
    "        feuilles.append(feuille.right)\n",
    "    return root"
   ]
  },
  {
   "cell_type": "markdown",
   "metadata": {},
   "source": [
    "\n",
    "\n",
    "Variante permettant d'obtenir des arbres équilibrés : \n",
    "\n",
    "On choisit d'étendre aléatoirement parmi les noeuds ayant la plus petite profondeur. Pour cela, on maintient deux listes :  \n",
    "&ensp;une liste de couples (noeud de profondeur minimale, nombre de fils) de laquelle on retire un noeud dès qu'il possède 2 fils.  \n",
    "&ensp;une deuxième liste de couples contenant les futurs noeuds de profondeur minimale : on la remplit à chaque ajout d'une nouvelle feuille.  \n",
    "  \n",
    "Lorsque la première liste est vide, on inverse les deux.\n",
    "\n",
    "Cela permet d'obtenir un ABR dont l'écart de profondeur entre 2 feuilles quelconques est au maximum de 1."
   ]
  },
  {
   "cell_type": "code",
   "execution_count": 3,
   "metadata": {},
   "outputs": [],
   "source": [
    "import random\n",
    "\n",
    "def gen_abr_equi(n):\n",
    "    root = Node(None)\n",
    "    profMin = [[root,0]]\n",
    "    profMinFuture = []\n",
    "    for i in range(n-1):\n",
    "        if len(profMin) == 0:\n",
    "            profMin,profMinFuture = profMinFuture,profMin\n",
    "            \n",
    "        indice = random.randrange(len(profMin))\n",
    "        etendu = profMin[indice]\n",
    "        \n",
    "        newN = Node(None)\n",
    "        profMinFuture.append([newN,0])\n",
    "        \n",
    "        if etendu[1] == 0:\n",
    "            if random.random() < 0.5:\n",
    "                etendu[0].left = newN\n",
    "            else:\n",
    "                etendu[0].right = newN\n",
    "            profMin[indice][1] = 1\n",
    "        else:\n",
    "            if etendu[0].left:\n",
    "                etendu[0].right = newN\n",
    "            else:\n",
    "                etendu[0].left = newN\n",
    "            profMin.remove(etendu)\n",
    "    return root\n",
    "                "
   ]
  },
  {
   "cell_type": "markdown",
   "metadata": {},
   "source": [
    "### Question 11.3\n",
    "\n"
   ]
  },
  {
   "cell_type": "code",
   "execution_count": 7,
   "metadata": {
    "scrolled": true
   },
   "outputs": [],
   "source": [
    "def etiquetage(abr):\n",
    "    fga,fda = abr.nbFils()\n",
    "    nbNoeuds = fga + fda + 1\n",
    "    valeurs = [i+1 for i in range(nbNoeuds)]\n",
    "    print(valeurs)\n",
    "    etiquetage_annexe(abr,valeurs)\n",
    "    return abr\n",
    "\n",
    "\n",
    "def etiquetage_annexe(abr,valeurs):\n",
    "    fg,fd = abr.nbFils()\n",
    "    abr.data = valeurs[fg]\n",
    "    if fg > 0:\n",
    "        etiquetage_annexe(abr.left,valeurs[:fg])\n",
    "    if fd > 0:\n",
    "        etiquetage_annexe(abr.right,valeurs[fg+1:])"
   ]
  },
  {
   "cell_type": "markdown",
   "metadata": {},
   "source": [
    "### Question 11.4\n",
    "\n",
    "L'algorithme global semble être en O(n)."
   ]
  },
  {
   "cell_type": "markdown",
   "metadata": {},
   "source": [
    "# Exercice 12\n",
    "\n",
    "### Question 12.1\n",
    "\n",
    "On effectue des modifications à la structure de l'exercice 11 pour y ajouter des informations sur la profondeur et une méthode isFeuille  \n",
    "On ecrit egalement une fonction de generation d'arbre qui initialise la profondeur d'un noeud pendant la construction"
   ]
  },
  {
   "cell_type": "code",
   "execution_count": 14,
   "metadata": {},
   "outputs": [],
   "source": [
    "def gen_abr_prof(n):\n",
    "    root = Node(None)\n",
    "    feuilles = [root]\n",
    "    for i in range(n-1):\n",
    "        indice = random.randrange(len(feuilles))\n",
    "        feuille = feuilles[indice]\n",
    "        feuilles.remove(feuille)\n",
    "        \n",
    "        feuille.left = Node(None)\n",
    "        feuille.right = Node(None)\n",
    "        feuille.left.profondeur = feuille.profondeur + 1\n",
    "        feuille.right.profondeur = feuille.profondeur + 1\n",
    "        \n",
    "        feuilles.append(feuille.left)\n",
    "        feuilles.append(feuille.right)\n",
    "    return root"
   ]
  },
  {
   "cell_type": "code",
   "execution_count": 16,
   "metadata": {},
   "outputs": [],
   "source": [
    "def prof_moy_feuille(abr):\n",
    "    fga,fda = abr.nbFils()\n",
    "    nbNoeuds = fga + fda + 1\n",
    "    profTotale = 0\n",
    "    nbFeuilles = 0\n",
    "    for i in range(1,nbNoeuds+1):\n",
    "        currentNode = abr.getNode(i)\n",
    "        if currentNode.isFeuille():\n",
    "            profTotale += currentNode.profondeur\n",
    "            nbFeuilles += 1\n",
    "    return profTotale / nbFeuilles"
   ]
  },
  {
   "cell_type": "code",
   "execution_count": null,
   "metadata": {},
   "outputs": [],
   "source": []
  }
 ],
 "metadata": {
  "kernelspec": {
   "display_name": "Python 3",
   "language": "python",
   "name": "python3"
  },
  "language_info": {
   "codemirror_mode": {
    "name": "ipython",
    "version": 3
   },
   "file_extension": ".py",
   "mimetype": "text/x-python",
   "name": "python",
   "nbconvert_exporter": "python",
   "pygments_lexer": "ipython3",
   "version": "3.7.6"
  }
 },
 "nbformat": 4,
 "nbformat_minor": 4
}
