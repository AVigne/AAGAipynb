{
 "cells": [
  {
   "cell_type": "markdown",
   "metadata": {},
   "source": [
    "# Exercice 11\n",
    "\n",
    "### Question 11.1"
   ]
  },
  {
   "cell_type": "code",
   "execution_count": 11,
   "metadata": {},
   "outputs": [],
   "source": [
    "class Node:\n",
    "\n",
    "    def __init__(self, data):\n",
    "\n",
    "        self.left = None\n",
    "        self.right = None\n",
    "        self.data = data\n",
    "        self.profondeur = 0\n",
    "        self.nbfg = 0\n",
    "        self.nbfd = 0\n",
    "\n",
    "        \n",
    "    def contient(self, lkpval):\n",
    "        if lkpval == self.data:\n",
    "            return True\n",
    "        b1 = False\n",
    "        b2 = False\n",
    "        if self.left:\n",
    "            b1 = self.left.contient(lkpval)\n",
    "        if (not b1) and self.right:\n",
    "            b2 = self.right.contient(lkpval)\n",
    "        return b1 or b2 \n",
    "    \n",
    "    def nbFils_Init(self):\n",
    "        fg = 0\n",
    "        fd = 0\n",
    "        if self.left:\n",
    "            a,b = self.left.nbFils_Init()\n",
    "            fg = a + b + 1\n",
    "        if self.right:\n",
    "            a,b = self.right.nbFils_Init()\n",
    "            fd = a + b + 1\n",
    "        \n",
    "        self.nbfg = fg\n",
    "        self.nbfd = fd\n",
    "        \n",
    "        return fg,fd\n",
    "    \n",
    "    def nbFilsValues(self):\n",
    "        return self.nbfg, self.nbfd \n",
    "            \n",
    "    def nbFils(self):\n",
    "        fg = 0\n",
    "        fd = 0\n",
    "        if self.left:\n",
    "            a,b = self.left.nbFils()\n",
    "            fg = a + b + 1\n",
    "        if self.right:\n",
    "            a,b = self.right.nbFils()\n",
    "            fd = a + b + 1\n",
    "        return fg,fd\n",
    "        \n",
    "    def getNode(self,lkpval):\n",
    "        if lkpval == self.data:\n",
    "            return self\n",
    "        b1 = None\n",
    "        b2 = None\n",
    "        if self.left:\n",
    "            b1 = self.left.getNode(lkpval)\n",
    "        if (not b1) and self.right:\n",
    "            b2 = self.right.getNode(lkpval)\n",
    "        if b1:\n",
    "            return b1\n",
    "        return b2\n",
    "     \n",
    "        \n",
    "    def isFeuille(self):\n",
    "        return self.left == None and self.right == None"
   ]
  },
  {
   "cell_type": "markdown",
   "metadata": {},
   "source": [
    "### Question 11.2 "
   ]
  },
  {
   "cell_type": "code",
   "execution_count": 12,
   "metadata": {},
   "outputs": [],
   "source": [
    "def gen_abr(n):\n",
    "    root = Node(None)\n",
    "    feuilles = [root]\n",
    "    for i in range(n-1):\n",
    "        indice = random.randrange(len(feuilles))\n",
    "        feuille = feuilles[indice]\n",
    "        feuilles.remove(feuille)\n",
    "        \n",
    "        feuille.left = Node(None)\n",
    "        feuille.right = Node(None)\n",
    "        \n",
    "        feuilles.append(feuille.left)\n",
    "        feuilles.append(feuille.right)\n",
    "    return root"
   ]
  },
  {
   "cell_type": "markdown",
   "metadata": {},
   "source": [
    "---\n",
    "\n",
    "$\\textbf{Reflexion sur le probleme}$\n",
    "\n",
    "Variante permettant d'obtenir des arbres équilibrés : \n",
    "\n",
    "On choisit d'étendre aléatoirement parmi les noeuds ayant la plus petite profondeur. Pour cela, on maintient deux listes :  \n",
    "- une liste de couples (noeud de profondeur minimale, nombre de fils) de laquelle on retire un noeud dès qu'il possède 2 fils.  \n",
    "  \n",
    "- une deuxième liste de couples contenant les futurs noeuds de profondeur minimale : on la remplit à chaque ajout d'une nouvelle feuille.  \n",
    "  \n",
    "Lorsque la première liste est vide, on inverse les deux.\n",
    "\n",
    "Cela permet d'obtenir un ABR dont l'écart de profondeur entre 2 feuilles quelconques est au maximum de 1."
   ]
  },
  {
   "cell_type": "markdown",
   "metadata": {},
   "source": [
    "> $\\textbf{INFORMATION :}$ Cette proposition de variante ne correpond pas à l'exercice et ne sera pas utilisée ulterieurement."
   ]
  },
  {
   "cell_type": "code",
   "execution_count": 13,
   "metadata": {},
   "outputs": [],
   "source": [
    "import random\n",
    "\n",
    "def gen_abr_equi(n):\n",
    "    root = Node(None)\n",
    "    profMin = [[root,0]]\n",
    "    profMinFuture = []\n",
    "    for i in range(n-1):\n",
    "        if len(profMin) == 0:\n",
    "            profMin,profMinFuture = profMinFuture,profMin\n",
    "            \n",
    "        indice = random.randrange(len(profMin))\n",
    "        etendu = profMin[indice]\n",
    "        \n",
    "        newN = Node(None)\n",
    "        profMinFuture.append([newN,0])\n",
    "        \n",
    "        if etendu[1] == 0:\n",
    "            if random.random() < 0.5:\n",
    "                etendu[0].left = newN\n",
    "            else:\n",
    "                etendu[0].right = newN\n",
    "            profMin[indice][1] = 1\n",
    "        else:\n",
    "            if etendu[0].left:\n",
    "                etendu[0].right = newN\n",
    "            else:\n",
    "                etendu[0].left = newN\n",
    "            profMin.remove(etendu)\n",
    "    return root"
   ]
  },
  {
   "cell_type": "markdown",
   "metadata": {},
   "source": [
    "### Question 11.3\n",
    "\n"
   ]
  },
  {
   "cell_type": "code",
   "execution_count": 21,
   "metadata": {
    "scrolled": true
   },
   "outputs": [],
   "source": [
    "def etiquetage(abr):\n",
    "    #fga,fda = abr.nbFils()\n",
    "    fga,fda = abr.nbFils_Init()\n",
    "    nbNoeuds = fga + fda + 1\n",
    "    valeurs = [i+1 for i in range(nbNoeuds)]\n",
    "    #print(valeurs)\n",
    "    etiquetage_annexe(abr,valeurs)\n",
    "    return abr\n",
    "\n",
    "\n",
    "def etiquetage_annexe(abr,valeurs):\n",
    "    #fg,fd = abr.nbFils()\n",
    "    fg,fd = abr.nbFilsValues()\n",
    "    abr.data = valeurs[fg]\n",
    "    if fg > 0:\n",
    "        etiquetage_annexe(abr.left,valeurs[:fg])\n",
    "    if fd > 0:\n",
    "        etiquetage_annexe(abr.right,valeurs[fg+1:])\n"
   ]
  },
  {
   "cell_type": "code",
   "execution_count": 15,
   "metadata": {},
   "outputs": [],
   "source": [
    "from graphviz import Digraph\n",
    "\n",
    "def displayGraph(abr):\n",
    "    dot = Digraph()\n",
    "    generateDigraph(abr, dot)\n",
    "    return dot\n",
    "\n",
    "def generateDigraph(abr, graph):\n",
    "    if (abr == None):\n",
    "        return\n",
    "    \n",
    "    root = str(abr.data)\n",
    "    \n",
    "    right = abr.right\n",
    "    left = abr.left\n",
    "    \n",
    "    if (left != None):        \n",
    "        leaf = True if (left.left == None and left.right == None) else False\n",
    "        graph.node(str(left.data), shape='tripleoctagon' if leaf else 'circle')\n",
    "        graph.edge(root, str(left.data))\n",
    "        generateDigraph(abr.left, graph)    \n",
    "\n",
    "    if (right != None):\n",
    "        leaf = True if (right.left == None and right.right == None) else False\n",
    "        graph.node(str(right.data), shape='tripleoctagon' if leaf else 'circle')\n",
    "        graph.edge(root, str(right.data))\n",
    "        generateDigraph(abr.right, graph)\n"
   ]
  },
  {
   "cell_type": "code",
   "execution_count": 70,
   "metadata": {},
   "outputs": [
    {
     "data": {
      "image/svg+xml": [
       "<?xml version=\"1.0\" encoding=\"UTF-8\" standalone=\"no\"?>\r\n",
       "<!DOCTYPE svg PUBLIC \"-//W3C//DTD SVG 1.1//EN\"\r\n",
       " \"http://www.w3.org/Graphics/SVG/1.1/DTD/svg11.dtd\">\r\n",
       "<!-- Generated by graphviz version 2.38.0 (20140413.2041)\r\n",
       " -->\r\n",
       "<!-- Title: %3 Pages: 1 -->\r\n",
       "<svg width=\"308pt\" height=\"292pt\"\r\n",
       " viewBox=\"0.00 0.00 308.00 292.00\" xmlns=\"http://www.w3.org/2000/svg\" xmlns:xlink=\"http://www.w3.org/1999/xlink\">\r\n",
       "<g id=\"graph0\" class=\"graph\" transform=\"scale(1 1) rotate(0) translate(4 288)\">\r\n",
       "<title>%3</title>\r\n",
       "<polygon fill=\"white\" stroke=\"none\" points=\"-4,4 -4,-288 304,-288 304,4 -4,4\"/>\r\n",
       "<!-- 2 -->\r\n",
       "<g id=\"node1\" class=\"node\"><title>2</title>\r\n",
       "<ellipse fill=\"none\" stroke=\"black\" cx=\"106\" cy=\"-194\" rx=\"18\" ry=\"18\"/>\r\n",
       "<text text-anchor=\"middle\" x=\"106\" y=\"-190.3\" font-family=\"Times New Roman,serif\" font-size=\"14.00\">2</text>\r\n",
       "</g>\r\n",
       "<!-- 1 -->\r\n",
       "<g id=\"node3\" class=\"node\"><title>1</title>\r\n",
       "<polygon fill=\"none\" stroke=\"black\" points=\"62,-106.544 62,-121.456 46.1838,-132 23.8162,-132 8,-121.456 8,-106.544 23.8162,-96 46.1838,-96 62,-106.544\"/>\r\n",
       "<polygon fill=\"none\" stroke=\"black\" points=\"66,-104.403 66,-123.597 47.3949,-136 22.6051,-136 4,-123.597 4,-104.403 22.6051,-92 47.3949,-92 66,-104.403\"/>\r\n",
       "<polygon fill=\"none\" stroke=\"black\" points=\"70,-102.263 70,-125.737 48.606,-140 21.394,-140 1.42109e-014,-125.737 7.10543e-015,-102.263 21.394,-88 48.606,-88 70,-102.263\"/>\r\n",
       "<text text-anchor=\"middle\" x=\"35\" y=\"-110.3\" font-family=\"Times New Roman,serif\" font-size=\"14.00\">1</text>\r\n",
       "</g>\r\n",
       "<!-- 2&#45;&gt;1 -->\r\n",
       "<g id=\"edge2\" class=\"edge\"><title>2&#45;&gt;1</title>\r\n",
       "<path fill=\"none\" stroke=\"black\" d=\"M94.2758,-180.12C85.3387,-170.302 72.681,-156.396 61.3556,-143.954\"/>\r\n",
       "<polygon fill=\"black\" stroke=\"black\" points=\"63.8412,-141.485 54.5214,-136.446 58.6646,-146.197 63.8412,-141.485\"/>\r\n",
       "</g>\r\n",
       "<!-- 4 -->\r\n",
       "<g id=\"node4\" class=\"node\"><title>4</title>\r\n",
       "<ellipse fill=\"none\" stroke=\"black\" cx=\"106\" cy=\"-114\" rx=\"18\" ry=\"18\"/>\r\n",
       "<text text-anchor=\"middle\" x=\"106\" y=\"-110.3\" font-family=\"Times New Roman,serif\" font-size=\"14.00\">4</text>\r\n",
       "</g>\r\n",
       "<!-- 2&#45;&gt;4 -->\r\n",
       "<g id=\"edge3\" class=\"edge\"><title>2&#45;&gt;4</title>\r\n",
       "<path fill=\"none\" stroke=\"black\" d=\"M106,-175.689C106,-165.894 106,-153.422 106,-142.335\"/>\r\n",
       "<polygon fill=\"black\" stroke=\"black\" points=\"109.5,-142.262 106,-132.262 102.5,-142.262 109.5,-142.262\"/>\r\n",
       "</g>\r\n",
       "<!-- 6 -->\r\n",
       "<g id=\"node2\" class=\"node\"><title>6</title>\r\n",
       "<ellipse fill=\"none\" stroke=\"black\" cx=\"141\" cy=\"-266\" rx=\"27\" ry=\"18\"/>\r\n",
       "<text text-anchor=\"middle\" x=\"141\" y=\"-262.3\" font-family=\"Times New Roman,serif\" font-size=\"14.00\">6</text>\r\n",
       "</g>\r\n",
       "<!-- 6&#45;&gt;2 -->\r\n",
       "<g id=\"edge1\" class=\"edge\"><title>6&#45;&gt;2</title>\r\n",
       "<path fill=\"none\" stroke=\"black\" d=\"M132.882,-248.765C128.581,-240.162 123.206,-229.412 118.395,-219.79\"/>\r\n",
       "<polygon fill=\"black\" stroke=\"black\" points=\"121.436,-218.045 113.833,-210.666 115.175,-221.175 121.436,-218.045\"/>\r\n",
       "</g>\r\n",
       "<!-- 8 -->\r\n",
       "<g id=\"node7\" class=\"node\"><title>8</title>\r\n",
       "<ellipse fill=\"none\" stroke=\"black\" cx=\"177\" cy=\"-194\" rx=\"18\" ry=\"18\"/>\r\n",
       "<text text-anchor=\"middle\" x=\"177\" y=\"-190.3\" font-family=\"Times New Roman,serif\" font-size=\"14.00\">8</text>\r\n",
       "</g>\r\n",
       "<!-- 6&#45;&gt;8 -->\r\n",
       "<g id=\"edge6\" class=\"edge\"><title>6&#45;&gt;8</title>\r\n",
       "<path fill=\"none\" stroke=\"black\" d=\"M149.35,-248.765C153.774,-240.162 159.302,-229.412 164.251,-219.79\"/>\r\n",
       "<polygon fill=\"black\" stroke=\"black\" points=\"167.482,-221.159 168.943,-210.666 161.257,-217.958 167.482,-221.159\"/>\r\n",
       "</g>\r\n",
       "<!-- 3 -->\r\n",
       "<g id=\"node5\" class=\"node\"><title>3</title>\r\n",
       "<polygon fill=\"none\" stroke=\"black\" points=\"89,-18.5442 89,-33.4558 73.1838,-44 50.8162,-44 35,-33.4558 35,-18.5442 50.8162,-8 73.1838,-8 89,-18.5442\"/>\r\n",
       "<polygon fill=\"none\" stroke=\"black\" points=\"93,-16.4034 93,-35.5966 74.3949,-48 49.6051,-48 31,-35.5966 31,-16.4034 49.6051,-4 74.3949,-4 93,-16.4034\"/>\r\n",
       "<polygon fill=\"none\" stroke=\"black\" points=\"97,-14.2627 97,-37.7373 75.606,-52 48.394,-52 27,-37.7373 27,-14.2627 48.394,-3.55271e-015 75.606,-0 97,-14.2627\"/>\r\n",
       "<text text-anchor=\"middle\" x=\"62\" y=\"-22.3\" font-family=\"Times New Roman,serif\" font-size=\"14.00\">3</text>\r\n",
       "</g>\r\n",
       "<!-- 4&#45;&gt;3 -->\r\n",
       "<g id=\"edge4\" class=\"edge\"><title>4&#45;&gt;3</title>\r\n",
       "<path fill=\"none\" stroke=\"black\" d=\"M98.1337,-97.6249C92.9223,-87.439 85.876,-73.6667 79.3895,-60.9886\"/>\r\n",
       "<polygon fill=\"black\" stroke=\"black\" points=\"82.4703,-59.3257 74.7996,-52.0174 76.2385,-62.5141 82.4703,-59.3257\"/>\r\n",
       "</g>\r\n",
       "<!-- 5 -->\r\n",
       "<g id=\"node6\" class=\"node\"><title>5</title>\r\n",
       "<polygon fill=\"none\" stroke=\"black\" points=\"177,-18.5442 177,-33.4558 161.184,-44 138.816,-44 123,-33.4558 123,-18.5442 138.816,-8 161.184,-8 177,-18.5442\"/>\r\n",
       "<polygon fill=\"none\" stroke=\"black\" points=\"181,-16.4034 181,-35.5966 162.395,-48 137.605,-48 119,-35.5966 119,-16.4034 137.605,-4 162.395,-4 181,-16.4034\"/>\r\n",
       "<polygon fill=\"none\" stroke=\"black\" points=\"185,-14.2627 185,-37.7373 163.606,-52 136.394,-52 115,-37.7373 115,-14.2627 136.394,-3.55271e-015 163.606,-0 185,-14.2627\"/>\r\n",
       "<text text-anchor=\"middle\" x=\"150\" y=\"-22.3\" font-family=\"Times New Roman,serif\" font-size=\"14.00\">5</text>\r\n",
       "</g>\r\n",
       "<!-- 4&#45;&gt;5 -->\r\n",
       "<g id=\"edge5\" class=\"edge\"><title>4&#45;&gt;5</title>\r\n",
       "<path fill=\"none\" stroke=\"black\" d=\"M113.866,-97.6249C119.078,-87.439 126.124,-73.6667 132.61,-60.9886\"/>\r\n",
       "<polygon fill=\"black\" stroke=\"black\" points=\"135.761,-62.5141 137.2,-52.0174 129.53,-59.3257 135.761,-62.5141\"/>\r\n",
       "</g>\r\n",
       "<!-- 7 -->\r\n",
       "<g id=\"node8\" class=\"node\"><title>7</title>\r\n",
       "<polygon fill=\"none\" stroke=\"black\" points=\"204,-106.544 204,-121.456 188.184,-132 165.816,-132 150,-121.456 150,-106.544 165.816,-96 188.184,-96 204,-106.544\"/>\r\n",
       "<polygon fill=\"none\" stroke=\"black\" points=\"208,-104.403 208,-123.597 189.395,-136 164.605,-136 146,-123.597 146,-104.403 164.605,-92 189.395,-92 208,-104.403\"/>\r\n",
       "<polygon fill=\"none\" stroke=\"black\" points=\"212,-102.263 212,-125.737 190.606,-140 163.394,-140 142,-125.737 142,-102.263 163.394,-88 190.606,-88 212,-102.263\"/>\r\n",
       "<text text-anchor=\"middle\" x=\"177\" y=\"-110.3\" font-family=\"Times New Roman,serif\" font-size=\"14.00\">7</text>\r\n",
       "</g>\r\n",
       "<!-- 8&#45;&gt;7 -->\r\n",
       "<g id=\"edge7\" class=\"edge\"><title>8&#45;&gt;7</title>\r\n",
       "<path fill=\"none\" stroke=\"black\" d=\"M177,-175.689C177,-168.205 177,-159.159 177,-150.361\"/>\r\n",
       "<polygon fill=\"black\" stroke=\"black\" points=\"180.5,-150.257 177,-140.257 173.5,-150.257 180.5,-150.257\"/>\r\n",
       "</g>\r\n",
       "<!-- 9 -->\r\n",
       "<g id=\"node9\" class=\"node\"><title>9</title>\r\n",
       "<polygon fill=\"none\" stroke=\"black\" points=\"292,-106.544 292,-121.456 276.184,-132 253.816,-132 238,-121.456 238,-106.544 253.816,-96 276.184,-96 292,-106.544\"/>\r\n",
       "<polygon fill=\"none\" stroke=\"black\" points=\"296,-104.403 296,-123.597 277.395,-136 252.605,-136 234,-123.597 234,-104.403 252.605,-92 277.395,-92 296,-104.403\"/>\r\n",
       "<polygon fill=\"none\" stroke=\"black\" points=\"300,-102.263 300,-125.737 278.606,-140 251.394,-140 230,-125.737 230,-102.263 251.394,-88 278.606,-88 300,-102.263\"/>\r\n",
       "<text text-anchor=\"middle\" x=\"265\" y=\"-110.3\" font-family=\"Times New Roman,serif\" font-size=\"14.00\">9</text>\r\n",
       "</g>\r\n",
       "<!-- 8&#45;&gt;9 -->\r\n",
       "<g id=\"edge8\" class=\"edge\"><title>8&#45;&gt;9</title>\r\n",
       "<path fill=\"none\" stroke=\"black\" d=\"M189.985,-181.491C201.792,-171.026 219.661,-155.187 234.997,-141.594\"/>\r\n",
       "<polygon fill=\"black\" stroke=\"black\" points=\"237.579,-143.982 242.741,-134.73 232.935,-138.744 237.579,-143.982\"/>\r\n",
       "</g>\r\n",
       "</g>\r\n",
       "</svg>\r\n"
      ],
      "text/plain": [
       "<graphviz.dot.Digraph at 0x1d835420f98>"
      ]
     },
     "execution_count": 70,
     "metadata": {},
     "output_type": "execute_result"
    }
   ],
   "source": [
    "displayGraph(etiquetage(gen_abr(5)))"
   ]
  },
  {
   "cell_type": "markdown",
   "metadata": {},
   "source": [
    "### Question 11.4\n",
    "\n",
    "L'algorithme global est en complexité O(n).\n",
    "- La construction de l'ABR se réalise en une seule boucle avec des opérations en $O(1)$ donc une complexité total de $O(n)$\n",
    "- L'étiquetage se réalise en deux étapes :  \n",
    "$\\rightarrow$ Calcul du nombre de noeuds de chaque sous arbre $O(n)$  \n",
    "$\\rightarrow$ Parcours de tous les noeuds de l'arbre pour les étiqueter $O(n)$"
   ]
  },
  {
   "cell_type": "markdown",
   "metadata": {},
   "source": [
    "# Exercice 12\n",
    "\n",
    "### Question 12.1\n",
    "\n",
    "On effectue des modifications à la structure de l'exercice 11 pour y ajouter des informations sur la profondeur et une méthode isFeuille  \n",
    "On ecrit egalement une fonction de generation d'arbre qui initialise la profondeur d'un noeud pendant la construction"
   ]
  },
  {
   "cell_type": "code",
   "execution_count": 46,
   "metadata": {},
   "outputs": [],
   "source": [
    "def toList(abr):\n",
    "    fga,fda = abr.nbFils_Init()\n",
    "    nbNoeuds = fga + fda + 1\n",
    "    return toListAnnexe(abr)\n",
    "\n",
    "def toListAnnexe(abr):\n",
    "    fg,fd = abr.nbFils()\n",
    "    l0 = []\n",
    "    l1 = []\n",
    "    if fg > 0:\n",
    "        l0 = toListAnnexe(abr.left)\n",
    "    if fd > 0:\n",
    "        l1 = toListAnnexe(abr.right)\n",
    "    return l0 + [abr] + l1"
   ]
  },
  {
   "cell_type": "code",
   "execution_count": 47,
   "metadata": {},
   "outputs": [],
   "source": [
    "def gen_abr_prof(n):\n",
    "    root = Node(None)\n",
    "    feuilles = [root]\n",
    "    for i in range(n-1):\n",
    "        indice = random.randrange(len(feuilles))\n",
    "        feuille = feuilles[indice]\n",
    "        feuilles.remove(feuille)\n",
    "        \n",
    "        feuille.left = Node(None)\n",
    "        feuille.right = Node(None)\n",
    "        feuille.left.profondeur = feuille.profondeur + 1\n",
    "        feuille.right.profondeur = feuille.profondeur + 1\n",
    "        \n",
    "        feuilles.append(feuille.left)\n",
    "        feuilles.append(feuille.right)\n",
    "    return root"
   ]
  },
  {
   "cell_type": "code",
   "execution_count": 50,
   "metadata": {},
   "outputs": [],
   "source": [
    "def prof_moy_feuille(abr):\n",
    "    liste = toList(abr)\n",
    "    nbNoeuds = len(liste)\n",
    "    profTotale = 0\n",
    "    nbFeuilles = 0\n",
    "    for i in range(0,nbNoeuds):\n",
    "        currentNode = liste[i]\n",
    "        if currentNode.isFeuille():\n",
    "            profTotale += currentNode.profondeur\n",
    "            nbFeuilles += 1\n",
    "    return profTotale / nbFeuilles"
   ]
  },
  {
   "cell_type": "markdown",
   "metadata": {},
   "source": [
    "### Question 12.2\n",
    "\n",
    "Verification expérimentale des profondeurs des ABR en fonction du nombre de noeuds"
   ]
  },
  {
   "cell_type": "code",
   "execution_count": 66,
   "metadata": {},
   "outputs": [
    {
     "name": "stdout",
     "output_type": "stream",
     "text": [
      "Taille ABR =  10  : Rapport Mean/log(n) =  1.6804590682764404\n",
      "Taille ABR =  20  : Rapport Mean/log(n) =  1.7286257673007865\n",
      "Taille ABR =  30  : Rapport Mean/log(n) =  1.7558130259844646\n",
      "Taille ABR =  40  : Rapport Mean/log(n) =  1.7733704994627737\n",
      "Taille ABR =  50  : Rapport Mean/log(n) =  1.7909506130916037\n",
      "Taille ABR =  60  : Rapport Mean/log(n) =  1.7943612760685874\n",
      "Taille ABR =  70  : Rapport Mean/log(n) =  1.8087277943766042\n",
      "Taille ABR =  80  : Rapport Mean/log(n) =  1.8040967477114265\n",
      "Taille ABR =  90  : Rapport Mean/log(n) =  1.8127383990396846\n",
      "Taille ABR =  100  : Rapport Mean/log(n) =  1.8112338226671498\n",
      "Taille ABR =  200  : Rapport Mean/log(n) =  1.8441552900720155\n",
      "Taille ABR =  300  : Rapport Mean/log(n) =  1.8562080012184967\n",
      "Taille ABR =  400  : Rapport Mean/log(n) =  1.8605918323226773\n",
      "Taille ABR =  500  : Rapport Mean/log(n) =  1.860560121713162\n",
      "Taille ABR =  600  : Rapport Mean/log(n) =  1.8589616124620119\n",
      "Taille ABR =  700  : Rapport Mean/log(n) =  1.8782934721086593\n",
      "Taille ABR =  800  : Rapport Mean/log(n) =  1.876356550087286\n",
      "Taille ABR =  900  : Rapport Mean/log(n) =  1.8657514330402434\n",
      "Taille ABR =  1000  : Rapport Mean/log(n) =  1.8693771679043554\n",
      "Taille ABR =  2000  : Rapport Mean/log(n) =  1.894983533424759\n",
      "Taille ABR =  3000  : Rapport Mean/log(n) =  1.8941736734574517\n",
      "Taille ABR =  4000  : Rapport Mean/log(n) =  1.9007338615115985\n",
      "Taille ABR =  5000  : Rapport Mean/log(n) =  1.9011802639770181\n"
     ]
    },
    {
     "data": {
      "text/plain": [
       "<matplotlib.legend.Legend at 0x1d836f14080>"
      ]
     },
     "execution_count": 66,
     "metadata": {},
     "output_type": "execute_result"
    },
    {
     "data": {
      "image/png": "[encoded data removed]",
      "text/plain": [
       "<Figure size 432x288 with 1 Axes>"
      ]
     },
     "metadata": {
      "needs_background": "light"
     },
     "output_type": "display_data"
    }
   ],
   "source": [
    "import math\n",
    "import matplotlib.pyplot as plt\n",
    "\n",
    "ite = 500\n",
    "#tests = [10**i for i in range(1,4)]\n",
    "\n",
    "#tests = [10,20,30,50,100,150,200,300,500,700,900,1000]\n",
    "tests = [10*i for i in range(1,10)] + [100*i for i in range(1,10)] + [1000*i for i in range(1,6)]\n",
    "\n",
    "res = []\n",
    "for i in tests:\n",
    "    somme = 0\n",
    "    for _ in range (ite):\n",
    "        abr = etiquetage(gen_abr_prof(i))\n",
    "        somme += prof_moy_feuille(abr)\n",
    "    res.append(somme/ite)\n",
    "    print(\"Taille ABR = \",i,\" : Rapport Mean/log(n) = \",(somme/ite)/math.log(i))\n",
    "\n",
    "fig, ax = plt.subplots()\n",
    "ax.plot(tests, res, label='Profondeur Moyenne')\n",
    "ax.plot(tests, [math.log(x) for x in tests], label='log n')\n",
    "plt.xlabel('Taille de l\\'ABR')\n",
    "plt.ylabel('Profondeur Moyenne')\n",
    "plt.legend()"
   ]
  },
  {
   "cell_type": "code",
   "execution_count": 68,
   "metadata": {},
   "outputs": [
    {
     "data": {
      "text/plain": [
       "<matplotlib.legend.Legend at 0x1d836ec3710>"
      ]
     },
     "execution_count": 68,
     "metadata": {},
     "output_type": "execute_result"
    },
    {
     "data": {
      "image/png": "[encoded data removed]",
      "text/plain": [
       "<Figure size 432x288 with 1 Axes>"
      ]
     },
     "metadata": {
      "needs_background": "light"
     },
     "output_type": "display_data"
    }
   ],
   "source": [
    "fig, ax = plt.subplots()\n",
    "ax.plot(tests, res, label='Profondeur Moyenne')\n",
    "ax.plot(tests, [1.9*math.log(x) for x in tests], label='1.9 x log n')\n",
    "plt.xlabel('Taille de l\\'ABR')\n",
    "plt.ylabel('Profondeur Moyenne')\n",
    "plt.legend()"
   ]
  },
  {
   "cell_type": "markdown",
   "metadata": {},
   "source": [
    "--- \n",
    "<span style=\"color:blue\">$\\textbf{Observation :}$</span> D'apres les tests réalisés sur les différentes tailles d'ABR, on peut observer que la profondeur moyenne est bien $\\theta(log n)$. Avec une constante multiplicative de l'ordre de $1.9$. \n",
    "\n",
    "On constate par ailleurs que le rapport entre la profondeur et $log n$ augmente sur les tailles d'ABR entre 10 et 3000 jusqu'à se stabiliser. Nous avons testé sur des tailles d'ABR jusqu'à 50 000 noeuds et le rapport est bien stabilisé au tour des $1.90$. \n",
    "\n",
    "<span style=\"color:blue\">$\\textbf{Conclusion :}$</span> une augmentation linéaire du nombre de feuille d'un arbre n'augmentera pas linéairement, mais de maniere logarithmique le temps de recherche d'un élement. \n",
    "\n",
    "---"
   ]
  }
 ],
 "metadata": {
  "kernelspec": {
   "display_name": "Python 3",
   "language": "python",
   "name": "python3"
  },
  "language_info": {
   "codemirror_mode": {
    "name": "ipython",
    "version": 3
   },
   "file_extension": ".py",
   "mimetype": "text/x-python",
   "name": "python",
   "nbconvert_exporter": "python",
   "pygments_lexer": "ipython3",
   "version": "3.7.1"
  }
 },
 "nbformat": 4,
 "nbformat_minor": 4
}
