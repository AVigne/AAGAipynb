{
 "cells": [
  {
   "cell_type": "markdown",
   "metadata": {},
   "source": [
    "# Exercice 1\n"
   ]
  },
  {
   "cell_type": "code",
   "execution_count": 1,
   "metadata": {},
   "outputs": [],
   "source": [
    "#question 1\n",
    "def RAND48(seed):\n",
    "    a = 25214903917\n",
    "    c = 11\n",
    "    m = 2**48\n",
    "    res = (((a*seed)+c)%m)\n",
    "    return res"
   ]
  },
  {
   "cell_type": "code",
   "execution_count": 2,
   "metadata": {},
   "outputs": [],
   "source": [
    "#question 2\n",
    "global seedGlobale\n",
    "seedGlobale = -1\n",
    "\n",
    "def initRAND48(s):\n",
    "    seedGlobale = s"
   ]
  },
  {
   "cell_type": "code",
   "execution_count": 3,
   "metadata": {},
   "outputs": [
    {
     "data": {
      "text/plain": [
       "'0'"
      ]
     },
     "execution_count": 3,
     "metadata": {},
     "output_type": "execute_result"
    }
   ],
   "source": [
    "#question 3\n",
    "\n",
    "global genere\n",
    "genere = []\n",
    "\n",
    "def bit_suivant():\n",
    "    global genere\n",
    "    global seedGlobale\n",
    "    if len(genere) > 0:\n",
    "        res = genere[-1]\n",
    "        genere.pop()\n",
    "        return res\n",
    "    seedGlobale = RAND48(seedGlobale) \n",
    "    genere = list(bin(seedGlobale))[2:]\n",
    "    while(len(genere) < 48):\n",
    "        genere.insert(0,0)\n",
    "    return bit_suivant()\n",
    "\n",
    "bit_suivant()"
   ]
  },
  {
   "cell_type": "code",
   "execution_count": 4,
   "metadata": {},
   "outputs": [],
   "source": [
    "#question 4\n",
    "def gen_uniforme(bMax):\n",
    "    binBMax = bin(bMax)[2:]\n",
    "    res = 0\n",
    "    for i in range(len(binBMax)):\n",
    "        res = res*10 + int(bit_suivant())\n",
    "    if int(binBMax,2) < int(str(res),2):\n",
    "        return gen_uniforme(bMax)\n",
    "    return int(str(res),2)\n",
    "    "
   ]
  },
  {
   "cell_type": "code",
   "execution_count": 5,
   "metadata": {},
   "outputs": [
    {
     "name": "stdout",
     "output_type": "stream",
     "text": [
      "Proportion des tirages des i allant de 0 à 5 :\n",
      "[0.166691, 0.166807, 0.166571, 0.166536, 0.166539, 0.166856]\n"
     ]
    }
   ],
   "source": [
    "#Vérification de l'uniformité\n",
    "\n",
    "N = 5\n",
    "ite = 1000000\n",
    "\n",
    "listUni = [0 for i in range (N+1)]\n",
    "\n",
    "for _ in range (ite):\n",
    "    number = gen_uniforme(N)\n",
    "    #print(\"Gen \"+str(number))\n",
    "    listUni[number] = listUni[number] + 1\n",
    "\n",
    "listUni = [i/ite for i in listUni]\n",
    "print(\"Proportion des tirages des i allant de 0 à \"+str(N)+\" :\")\n",
    "print(listUni)"
   ]
  },
  {
   "cell_type": "markdown",
   "metadata": {},
   "source": [
    "---\n",
    "\n",
    "# Exercice 2\n",
    "\n",
    "\n",
    "### Question 2.1"
   ]
  },
  {
   "cell_type": "code",
   "execution_count": 1,
   "metadata": {},
   "outputs": [],
   "source": [
    "#question 1\n",
    "class Node:\n",
    "\n",
    "    def __init__(self, data):\n",
    "\n",
    "        self.left = None\n",
    "        self.right = None\n",
    "        self.data = data\n",
    "        self.father = None\n",
    "\n",
    "        \n",
    "# findval method to compare the value with nodes\n",
    "    def contient(self, lkpval):\n",
    "        if lkpval == self.data:\n",
    "            return True\n",
    "        b1 = False\n",
    "        b2 = False\n",
    "        if self.left:\n",
    "            b1 = self.left.contient(lkpval)\n",
    "        if (not b1) and self.right:\n",
    "            b2 = self.right.contient(lkpval)\n",
    "        return b1 or b2 \n"
   ]
  },
  {
   "cell_type": "markdown",
   "metadata": {},
   "source": [
    "\n",
    "### Question 2.2"
   ]
  },
  {
   "cell_type": "code",
   "execution_count": 7,
   "metadata": {},
   "outputs": [],
   "source": [
    "#question 2\n",
    "def arbre2str(abr):\n",
    "    res = \"(\"\n",
    "    if abr.left:\n",
    "        res += arbre2str(abr.left)\n",
    "    if abr.right:\n",
    "        res += arbre2str(abr.right)\n",
    "    res += \")\"\n",
    "    return res"
   ]
  },
  {
   "cell_type": "markdown",
   "metadata": {},
   "source": [
    "---\n",
    "\n",
    "# Exercice 3\n",
    "\n",
    "### Question 3.1"
   ]
  },
  {
   "cell_type": "code",
   "execution_count": 8,
   "metadata": {},
   "outputs": [],
   "source": [
    "#question 1\n",
    "from random import *\n",
    "\n",
    "def gen_remy(n):\n",
    "    if n <= 0:\n",
    "        return \"n invalide\"\n",
    "    root = Node(1)\n",
    "    listeNodes = [root]\n",
    "    for i in range(1,n):\n",
    "        current = choice(listeNodes)\n",
    "        newG = None\n",
    "        newD = None\n",
    "        if random() < 0.5:\n",
    "            newG = current\n",
    "            newD = Node(i+1)\n",
    "        else:\n",
    "            newD = current\n",
    "            newG = Node(i+1)\n",
    "        listeNodes.remove(current)\n",
    "        newC = Node(None)\n",
    "        newC.father = current.father\n",
    "        newC.left = newG\n",
    "        newC.right = newD\n",
    "        if current.father == None:\n",
    "            pass\n",
    "        elif current.father.left == current:\n",
    "            current.father.left = newC\n",
    "        else:\n",
    "            current.father.right = newC\n",
    "        newG.father = newC\n",
    "        newD.father = newC\n",
    "        listeNodes.append(newG)\n",
    "        listeNodes.append(newC)\n",
    "        listeNodes.append(newD)\n",
    "    root0 = filter(lambda x : x.father == None,listeNodes)\n",
    "    return next(root0)\n",
    "    "
   ]
  },
  {
   "cell_type": "markdown",
   "metadata": {},
   "source": [
    "### Question 3.2"
   ]
  },
  {
   "cell_type": "code",
   "execution_count": 9,
   "metadata": {},
   "outputs": [
    {
     "data": {
      "text/plain": [
       "'(()(((((((()())())(()()))())())())()))'"
      ]
     },
     "execution_count": 9,
     "metadata": {},
     "output_type": "execute_result"
    }
   ],
   "source": [
    "arbre2str(gen_remy(10))"
   ]
  },
  {
   "cell_type": "code",
   "execution_count": 10,
   "metadata": {},
   "outputs": [],
   "source": [
    "#arbre2str(gen_remy(30))"
   ]
  },
  {
   "cell_type": "code",
   "execution_count": 11,
   "metadata": {},
   "outputs": [],
   "source": [
    "#arbre2str(gen_remy(50))"
   ]
  },
  {
   "cell_type": "code",
   "execution_count": 12,
   "metadata": {},
   "outputs": [],
   "source": [
    "#arbre2str(gen_remy(100))"
   ]
  },
  {
   "cell_type": "code",
   "execution_count": 13,
   "metadata": {
    "scrolled": true
   },
   "outputs": [],
   "source": [
    "#arbre2str(gen_remy(1000))"
   ]
  },
  {
   "cell_type": "code",
   "execution_count": 14,
   "metadata": {
    "scrolled": true
   },
   "outputs": [],
   "source": [
    "#arbre2str(gen_remy(10000))"
   ]
  },
  {
   "cell_type": "markdown",
   "metadata": {},
   "source": [
    "### Représentation graphique des arbres générés"
   ]
  },
  {
   "cell_type": "code",
   "execution_count": 3,
   "metadata": {},
   "outputs": [
    {
     "ename": "ModuleNotFoundError",
     "evalue": "No module named 'graphviz'",
     "output_type": "error",
     "traceback": [
      "\u001b[0;31m---------------------------------------------------------------------------\u001b[0m",
      "\u001b[0;31mModuleNotFoundError\u001b[0m                       Traceback (most recent call last)",
      "\u001b[0;32m<ipython-input-3-16faf370d62c>\u001b[0m in \u001b[0;36m<module>\u001b[0;34m\u001b[0m\n\u001b[0;32m----> 1\u001b[0;31m \u001b[0;32mfrom\u001b[0m \u001b[0mgraphviz\u001b[0m \u001b[0;32mimport\u001b[0m \u001b[0mDigraph\u001b[0m\u001b[0;34m\u001b[0m\u001b[0;34m\u001b[0m\u001b[0m\n\u001b[0m\u001b[1;32m      2\u001b[0m \u001b[0mdot\u001b[0m \u001b[0;34m=\u001b[0m \u001b[0mDigraph\u001b[0m\u001b[0;34m(\u001b[0m\u001b[0;34m)\u001b[0m\u001b[0;34m\u001b[0m\u001b[0;34m\u001b[0m\u001b[0m\n\u001b[1;32m      3\u001b[0m \u001b[0;34m\u001b[0m\u001b[0m\n\u001b[1;32m      4\u001b[0m \u001b[0mN\u001b[0m \u001b[0;34m=\u001b[0m \u001b[0;36m5\u001b[0m\u001b[0;34m\u001b[0m\u001b[0;34m\u001b[0m\u001b[0m\n\u001b[1;32m      5\u001b[0m \u001b[0;32mglobal\u001b[0m \u001b[0mcpt\u001b[0m\u001b[0;34m\u001b[0m\u001b[0;34m\u001b[0m\u001b[0m\n",
      "\u001b[0;31mModuleNotFoundError\u001b[0m: No module named 'graphviz'"
     ]
    }
   ],
   "source": [
    "from graphviz import Digraph\n",
    "dot = Digraph()\n",
    "\n",
    "N = 5\n",
    "global cpt\n",
    "cpt = 2\n",
    "\n",
    "def generateDigraph(tree, graph):\n",
    "    global cpt\n",
    "    \n",
    "    if (tree == None):\n",
    "        return\n",
    "    \n",
    "    root = str(tree.data)\n",
    "    \n",
    "    right = tree.right\n",
    "    left = tree.left\n",
    "    \n",
    "    if (right != None):\n",
    "        if (right.data == None):\n",
    "            right.data = \"I_\"+str(cpt)\n",
    "            cpt+=1\n",
    "\n",
    "        leaf = True if (right.left == None and right.right == None) else False\n",
    "        graph.node(str(right.data), shape='tripleoctagon' if leaf else 'circle')\n",
    "        graph.edge(root, str(right.data))\n",
    "        generateDigraph(tree.right, graph)\n",
    "    \n",
    "    if (left != None):\n",
    "        if (left.data == None):\n",
    "            left.data = \"I_\"+str(cpt)\n",
    "            cpt+=1\n",
    "        \n",
    "        leaf = True if (left.left == None and left.right == None) else False\n",
    "        graph.node(str(left.data), shape='tripleoctagon' if leaf else 'circle')\n",
    "        graph.edge(root, str(left.data))\n",
    "        generateDigraph(tree.left, graph)\n",
    "\n",
    "testTree = gen_remy(N)\n",
    "testTree.data = \"I_1\"\n",
    "dot.node(testTree.data, shape='invhouse')\n",
    "generateDigraph(testTree, dot)\n",
    "\n",
    "dot"
   ]
  }
 ],
 "metadata": {
  "kernelspec": {
   "display_name": "Python 3",
   "language": "python",
   "name": "python3"
  },
  "language_info": {
   "codemirror_mode": {
    "name": "ipython",
    "version": 3
   },
   "file_extension": ".py",
   "mimetype": "text/x-python",
   "name": "python",
   "nbconvert_exporter": "python",
   "pygments_lexer": "ipython3",
   "version": "3.7.6"
  }
 },
 "nbformat": 4,
 "nbformat_minor": 4
}
