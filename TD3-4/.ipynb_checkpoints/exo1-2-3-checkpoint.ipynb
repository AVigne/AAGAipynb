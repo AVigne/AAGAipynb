{
 "cells": [
  {
   "cell_type": "markdown",
   "metadata": {},
   "source": [
    "# Exercice 1\n"
   ]
  },
  {
   "cell_type": "code",
   "execution_count": 1,
   "metadata": {},
   "outputs": [],
   "source": [
    "#question 1\n",
    "def RAND48(seed):\n",
    "    a = 25214903917\n",
    "    c = 11\n",
    "    m = 2**48\n",
    "    res = (((a*seed)+c)%m)\n",
    "    return res"
   ]
  },
  {
   "cell_type": "code",
   "execution_count": 2,
   "metadata": {},
   "outputs": [],
   "source": [
    "#question 2\n",
    "global seedGlobale\n",
    "seedGlobale = -1\n",
    "\n",
    "def initRAND48(s):\n",
    "    seedGlobale = s"
   ]
  },
  {
   "cell_type": "code",
   "execution_count": 3,
   "metadata": {},
   "outputs": [
    {
     "data": {
      "text/plain": [
       "'0'"
      ]
     },
     "execution_count": 3,
     "metadata": {},
     "output_type": "execute_result"
    }
   ],
   "source": [
    "#question 3\n",
    "\n",
    "global genere\n",
    "genere = []\n",
    "\n",
    "def bit_suivant():\n",
    "    global genere\n",
    "    global seedGlobale\n",
    "    if len(genere) > 0:\n",
    "        res = genere[-1]\n",
    "        genere.pop()\n",
    "        return res\n",
    "    seedGlobale = RAND48(seedGlobale) \n",
    "    genere = list(bin(seedGlobale))[2:]\n",
    "    while(len(genere) < 48):\n",
    "        genere.insert(0,0)\n",
    "    return bit_suivant()\n",
    "\n",
    "bit_suivant()"
   ]
  },
  {
   "cell_type": "code",
   "execution_count": 4,
   "metadata": {},
   "outputs": [],
   "source": [
    "#question 4\n",
    "def gen_uniforme(bMax):\n",
    "    binBMax = bin(bMax)[2:]\n",
    "    res = 0\n",
    "    for i in range(len(binBMax)):\n",
    "        res = res*10 + int(bit_suivant())\n",
    "    if int(binBMax,2) < int(str(res),2):\n",
    "        return gen_uniforme(bMax)\n",
    "    return int(str(res),2)\n",
    "    "
   ]
  },
  {
   "cell_type": "code",
   "execution_count": 5,
   "metadata": {},
   "outputs": [
    {
     "name": "stdout",
     "output_type": "stream",
     "text": [
      "Proportion des tirages des i allant de 0 à 5 :\n",
      "[0.166691, 0.166807, 0.166571, 0.166536, 0.166539, 0.166856]\n"
     ]
    }
   ],
   "source": [
    "#Vérification de l'uniformité\n",
    "\n",
    "N = 5\n",
    "ite = 1000000\n",
    "\n",
    "listUni = [0 for i in range (N+1)]\n",
    "\n",
    "for _ in range (ite):\n",
    "    number = gen_uniforme(N)\n",
    "    #print(\"Gen \"+str(number))\n",
    "    listUni[number] = listUni[number] + 1\n",
    "\n",
    "listUni = [i/ite for i in listUni]\n",
    "print(\"Proportion des tirages des i allant de 0 à \"+str(N)+\" :\")\n",
    "print(listUni)"
   ]
  },
  {
   "cell_type": "markdown",
   "metadata": {},
   "source": [
    "---\n",
    "\n",
    "# Exercice 2\n",
    "\n",
    "\n",
    "### Question 2.1"
   ]
  },
  {
   "cell_type": "code",
   "execution_count": 6,
   "metadata": {},
   "outputs": [],
   "source": [
    "#question 1\n",
    "class Node:\n",
    "\n",
    "    def __init__(self, data):\n",
    "\n",
    "        self.left = None\n",
    "        self.right = None\n",
    "        self.data = data\n",
    "        self.father = None\n",
    "\n",
    "        \n",
    "# findval method to compare the value with nodes\n",
    "    def contient(self, lkpval):\n",
    "        if lkpval == self.data:\n",
    "            return True\n",
    "        b1 = False\n",
    "        b2 = False\n",
    "        if self.left:\n",
    "            b1 = self.left.contient(lkpval)\n",
    "        if (not b1) and self.right:\n",
    "            b2 = self.right.contient(lkpval)\n",
    "        return b1 or b2 "
   ]
  },
  {
   "cell_type": "markdown",
   "metadata": {},
   "source": [
    "\n",
    "### Question 2.2"
   ]
  },
  {
   "cell_type": "code",
   "execution_count": 7,
   "metadata": {},
   "outputs": [],
   "source": [
    "#question 2\n",
    "def arbre2str(abr):\n",
    "    res = \"(\"\n",
    "    if abr.left:\n",
    "        res += arbre2str(abr.left)\n",
    "    if abr.right:\n",
    "        res += arbre2str(abr.right)\n",
    "    res += \")\"\n",
    "    return res"
   ]
  },
  {
   "cell_type": "markdown",
   "metadata": {},
   "source": [
    "---\n",
    "\n",
    "# Exercice 3\n",
    "\n",
    "### Question 3.1"
   ]
  },
  {
   "cell_type": "code",
   "execution_count": 8,
   "metadata": {},
   "outputs": [],
   "source": [
    "#question 1\n",
    "from random import *\n",
    "\n",
    "def gen_remy(n):\n",
    "    if n <= 0:\n",
    "        return \"n invalide\"\n",
    "    root = Node(1)\n",
    "    listeNodes = [root]\n",
    "    for i in range(1,n):\n",
    "        current = choice(listeNodes)\n",
    "        newG = None\n",
    "        newD = None\n",
    "        if random() < 0.5:\n",
    "            newG = current\n",
    "            newD = Node(i+1)\n",
    "        else:\n",
    "            newD = current\n",
    "            newG = Node(i+1)\n",
    "        listeNodes.remove(current)\n",
    "        newC = Node(None)\n",
    "        newC.father = current.father\n",
    "        newC.left = newG\n",
    "        newC.right = newD\n",
    "        if current.father == None:\n",
    "            pass\n",
    "        elif current.father.left == current:\n",
    "            current.father.left = newC\n",
    "        else:\n",
    "            current.father.right = newC\n",
    "        newG.father = newC\n",
    "        newD.father = newC\n",
    "        listeNodes.append(newG)\n",
    "        listeNodes.append(newC)\n",
    "        listeNodes.append(newD)\n",
    "    root0 = filter(lambda x : x.father == None,listeNodes)\n",
    "    return next(root0)\n",
    "    "
   ]
  },
  {
   "cell_type": "markdown",
   "metadata": {},
   "source": [
    "### Question 3.2"
   ]
  },
  {
   "cell_type": "code",
   "execution_count": 9,
   "metadata": {},
   "outputs": [
    {
     "data": {
      "text/plain": [
       "'((()())((()())(((()())((()())()))())))'"
      ]
     },
     "execution_count": 9,
     "metadata": {},
     "output_type": "execute_result"
    }
   ],
   "source": [
    "arbre2str(gen_remy(10))"
   ]
  },
  {
   "cell_type": "code",
   "execution_count": 10,
   "metadata": {},
   "outputs": [],
   "source": [
    "#arbre2str(gen_remy(30))"
   ]
  },
  {
   "cell_type": "code",
   "execution_count": 11,
   "metadata": {},
   "outputs": [],
   "source": [
    "#arbre2str(gen_remy(50))"
   ]
  },
  {
   "cell_type": "code",
   "execution_count": 12,
   "metadata": {},
   "outputs": [],
   "source": [
    "#arbre2str(gen_remy(100))"
   ]
  },
  {
   "cell_type": "code",
   "execution_count": 13,
   "metadata": {
    "scrolled": true
   },
   "outputs": [],
   "source": [
    "#arbre2str(gen_remy(1000))"
   ]
  },
  {
   "cell_type": "code",
   "execution_count": 14,
   "metadata": {
    "scrolled": true
   },
   "outputs": [],
   "source": [
    "#arbre2str(gen_remy(10000))"
   ]
  },
  {
   "cell_type": "markdown",
   "metadata": {},
   "source": [
    "### Représentation graphique des arbres générés"
   ]
  },
  {
   "cell_type": "code",
   "execution_count": 15,
   "metadata": {},
   "outputs": [
    {
     "data": {
      "image/svg+xml": [
       "<?xml version=\"1.0\" encoding=\"UTF-8\" standalone=\"no\"?>\r\n",
       "<!DOCTYPE svg PUBLIC \"-//W3C//DTD SVG 1.1//EN\"\r\n",
       " \"http://www.w3.org/Graphics/SVG/1.1/DTD/svg11.dtd\">\r\n",
       "<!-- Generated by graphviz version 2.38.0 (20140413.2041)\r\n",
       " -->\r\n",
       "<!-- Title: %3 Pages: 1 -->\r\n",
       "<svg width=\"374pt\" height=\"301pt\"\r\n",
       " viewBox=\"0.00 0.00 374.00 301.50\" xmlns=\"http://www.w3.org/2000/svg\" xmlns:xlink=\"http://www.w3.org/1999/xlink\">\r\n",
       "<g id=\"graph0\" class=\"graph\" transform=\"scale(1 1) rotate(0) translate(4 297.496)\">\r\n",
       "<title>%3</title>\r\n",
       "<polygon fill=\"white\" stroke=\"none\" points=\"-4,4 -4,-297.496 370,-297.496 370,4 -4,4\"/>\r\n",
       "<!-- I_1 -->\r\n",
       "<g id=\"node1\" class=\"node\"><title>I_1</title>\r\n",
       "<polygon fill=\"none\" stroke=\"black\" points=\"170.763,-269.934 199,-257.496 227.237,-269.934 227.21,-290.058 170.79,-290.058 170.763,-269.934\"/>\r\n",
       "<text text-anchor=\"middle\" x=\"199\" y=\"-271.796\" font-family=\"Times New Roman,serif\" font-size=\"14.00\">I_1</text>\r\n",
       "</g>\r\n",
       "<!-- I_2 -->\r\n",
       "<g id=\"node2\" class=\"node\"><title>I_2</title>\r\n",
       "<ellipse fill=\"none\" stroke=\"black\" cx=\"155\" cy=\"-198.748\" rx=\"22.9987\" ry=\"22.9987\"/>\r\n",
       "<text text-anchor=\"middle\" x=\"155\" y=\"-195.048\" font-family=\"Times New Roman,serif\" font-size=\"14.00\">I_2</text>\r\n",
       "</g>\r\n",
       "<!-- I_1&#45;&gt;I_2 -->\r\n",
       "<g id=\"edge1\" class=\"edge\"><title>I_1&#45;&gt;I_2</title>\r\n",
       "<path fill=\"none\" stroke=\"black\" d=\"M190.93,-260.786C185.448,-251.474 178.007,-238.833 171.318,-227.47\"/>\r\n",
       "<polygon fill=\"black\" stroke=\"black\" points=\"174.256,-225.561 166.167,-218.719 168.224,-229.112 174.256,-225.561\"/>\r\n",
       "</g>\r\n",
       "<!-- I_4 -->\r\n",
       "<g id=\"node7\" class=\"node\"><title>I_4</title>\r\n",
       "<ellipse fill=\"none\" stroke=\"black\" cx=\"243\" cy=\"-198.748\" rx=\"22.9987\" ry=\"22.9987\"/>\r\n",
       "<text text-anchor=\"middle\" x=\"243\" y=\"-195.048\" font-family=\"Times New Roman,serif\" font-size=\"14.00\">I_4</text>\r\n",
       "</g>\r\n",
       "<!-- I_1&#45;&gt;I_4 -->\r\n",
       "<g id=\"edge6\" class=\"edge\"><title>I_1&#45;&gt;I_4</title>\r\n",
       "<path fill=\"none\" stroke=\"black\" d=\"M207.07,-260.786C212.552,-251.474 219.993,-238.833 226.682,-227.47\"/>\r\n",
       "<polygon fill=\"black\" stroke=\"black\" points=\"229.776,-229.112 231.833,-218.719 223.744,-225.561 229.776,-229.112\"/>\r\n",
       "</g>\r\n",
       "<!-- I_3 -->\r\n",
       "<g id=\"node3\" class=\"node\"><title>I_3</title>\r\n",
       "<ellipse fill=\"none\" stroke=\"black\" cx=\"79\" cy=\"-114\" rx=\"22.9987\" ry=\"22.9987\"/>\r\n",
       "<text text-anchor=\"middle\" x=\"79\" y=\"-110.3\" font-family=\"Times New Roman,serif\" font-size=\"14.00\">I_3</text>\r\n",
       "</g>\r\n",
       "<!-- I_2&#45;&gt;I_3 -->\r\n",
       "<g id=\"edge2\" class=\"edge\"><title>I_2&#45;&gt;I_3</title>\r\n",
       "<path fill=\"none\" stroke=\"black\" d=\"M139.985,-181.4C128.847,-169.273 113.489,-152.551 100.972,-138.923\"/>\r\n",
       "<polygon fill=\"black\" stroke=\"black\" points=\"103.326,-136.312 93.984,-131.314 98.1706,-141.047 103.326,-136.312\"/>\r\n",
       "</g>\r\n",
       "<!-- 2 -->\r\n",
       "<g id=\"node6\" class=\"node\"><title>2</title>\r\n",
       "<polygon fill=\"none\" stroke=\"black\" points=\"182,-106.544 182,-121.456 166.184,-132 143.816,-132 128,-121.456 128,-106.544 143.816,-96 166.184,-96 182,-106.544\"/>\r\n",
       "<polygon fill=\"none\" stroke=\"black\" points=\"186,-104.403 186,-123.597 167.395,-136 142.605,-136 124,-123.597 124,-104.403 142.605,-92 167.395,-92 186,-104.403\"/>\r\n",
       "<polygon fill=\"none\" stroke=\"black\" points=\"190,-102.263 190,-125.737 168.606,-140 141.394,-140 120,-125.737 120,-102.263 141.394,-88 168.606,-88 190,-102.263\"/>\r\n",
       "<text text-anchor=\"middle\" x=\"155\" y=\"-110.3\" font-family=\"Times New Roman,serif\" font-size=\"14.00\">2</text>\r\n",
       "</g>\r\n",
       "<!-- I_2&#45;&gt;2 -->\r\n",
       "<g id=\"edge5\" class=\"edge\"><title>I_2&#45;&gt;2</title>\r\n",
       "<path fill=\"none\" stroke=\"black\" d=\"M155,-175.573C155,-167.813 155,-158.895 155,-150.331\"/>\r\n",
       "<polygon fill=\"black\" stroke=\"black\" points=\"158.5,-150.161 155,-140.161 151.5,-150.161 158.5,-150.161\"/>\r\n",
       "</g>\r\n",
       "<!-- 4 -->\r\n",
       "<g id=\"node4\" class=\"node\"><title>4</title>\r\n",
       "<polygon fill=\"none\" stroke=\"black\" points=\"62,-18.5442 62,-33.4558 46.1838,-44 23.8162,-44 8,-33.4558 8,-18.5442 23.8162,-8 46.1838,-8 62,-18.5442\"/>\r\n",
       "<polygon fill=\"none\" stroke=\"black\" points=\"66,-16.4034 66,-35.5966 47.3949,-48 22.6051,-48 4,-35.5966 4,-16.4034 22.6051,-4 47.3949,-4 66,-16.4034\"/>\r\n",
       "<polygon fill=\"none\" stroke=\"black\" points=\"70,-14.2627 70,-37.7373 48.606,-52 21.394,-52 1.42109e-014,-37.7373 7.10543e-015,-14.2627 21.394,-3.55271e-015 48.606,-0 70,-14.2627\"/>\r\n",
       "<text text-anchor=\"middle\" x=\"35\" y=\"-22.3\" font-family=\"Times New Roman,serif\" font-size=\"14.00\">4</text>\r\n",
       "</g>\r\n",
       "<!-- I_3&#45;&gt;4 -->\r\n",
       "<g id=\"edge3\" class=\"edge\"><title>I_3&#45;&gt;4</title>\r\n",
       "<path fill=\"none\" stroke=\"black\" d=\"M69.0157,-93.4853C64.1428,-83.9609 58.1353,-72.219 52.5316,-61.2663\"/>\r\n",
       "<polygon fill=\"black\" stroke=\"black\" points=\"55.624,-59.6261 47.9533,-52.3178 49.3922,-62.8144 55.624,-59.6261\"/>\r\n",
       "</g>\r\n",
       "<!-- 3 -->\r\n",
       "<g id=\"node5\" class=\"node\"><title>3</title>\r\n",
       "<polygon fill=\"none\" stroke=\"black\" points=\"150,-18.5442 150,-33.4558 134.184,-44 111.816,-44 96,-33.4558 96,-18.5442 111.816,-8 134.184,-8 150,-18.5442\"/>\r\n",
       "<polygon fill=\"none\" stroke=\"black\" points=\"154,-16.4034 154,-35.5966 135.395,-48 110.605,-48 92,-35.5966 92,-16.4034 110.605,-4 135.395,-4 154,-16.4034\"/>\r\n",
       "<polygon fill=\"none\" stroke=\"black\" points=\"158,-14.2627 158,-37.7373 136.606,-52 109.394,-52 88,-37.7373 88,-14.2627 109.394,-3.55271e-015 136.606,-0 158,-14.2627\"/>\r\n",
       "<text text-anchor=\"middle\" x=\"123\" y=\"-22.3\" font-family=\"Times New Roman,serif\" font-size=\"14.00\">3</text>\r\n",
       "</g>\r\n",
       "<!-- I_3&#45;&gt;3 -->\r\n",
       "<g id=\"edge4\" class=\"edge\"><title>I_3&#45;&gt;3</title>\r\n",
       "<path fill=\"none\" stroke=\"black\" d=\"M88.9843,-93.4853C93.8572,-83.9609 99.8647,-72.219 105.468,-61.2663\"/>\r\n",
       "<polygon fill=\"black\" stroke=\"black\" points=\"108.608,-62.8144 110.047,-52.3178 102.376,-59.6261 108.608,-62.8144\"/>\r\n",
       "</g>\r\n",
       "<!-- 5 -->\r\n",
       "<g id=\"node8\" class=\"node\"><title>5</title>\r\n",
       "<polygon fill=\"none\" stroke=\"black\" points=\"270,-106.544 270,-121.456 254.184,-132 231.816,-132 216,-121.456 216,-106.544 231.816,-96 254.184,-96 270,-106.544\"/>\r\n",
       "<polygon fill=\"none\" stroke=\"black\" points=\"274,-104.403 274,-123.597 255.395,-136 230.605,-136 212,-123.597 212,-104.403 230.605,-92 255.395,-92 274,-104.403\"/>\r\n",
       "<polygon fill=\"none\" stroke=\"black\" points=\"278,-102.263 278,-125.737 256.606,-140 229.394,-140 208,-125.737 208,-102.263 229.394,-88 256.606,-88 278,-102.263\"/>\r\n",
       "<text text-anchor=\"middle\" x=\"243\" y=\"-110.3\" font-family=\"Times New Roman,serif\" font-size=\"14.00\">5</text>\r\n",
       "</g>\r\n",
       "<!-- I_4&#45;&gt;5 -->\r\n",
       "<g id=\"edge7\" class=\"edge\"><title>I_4&#45;&gt;5</title>\r\n",
       "<path fill=\"none\" stroke=\"black\" d=\"M243,-175.573C243,-167.813 243,-158.895 243,-150.331\"/>\r\n",
       "<polygon fill=\"black\" stroke=\"black\" points=\"246.5,-150.161 243,-140.161 239.5,-150.161 246.5,-150.161\"/>\r\n",
       "</g>\r\n",
       "<!-- 1 -->\r\n",
       "<g id=\"node9\" class=\"node\"><title>1</title>\r\n",
       "<polygon fill=\"none\" stroke=\"black\" points=\"358,-106.544 358,-121.456 342.184,-132 319.816,-132 304,-121.456 304,-106.544 319.816,-96 342.184,-96 358,-106.544\"/>\r\n",
       "<polygon fill=\"none\" stroke=\"black\" points=\"362,-104.403 362,-123.597 343.395,-136 318.605,-136 300,-123.597 300,-104.403 318.605,-92 343.395,-92 362,-104.403\"/>\r\n",
       "<polygon fill=\"none\" stroke=\"black\" points=\"366,-102.263 366,-125.737 344.606,-140 317.394,-140 296,-125.737 296,-102.263 317.394,-88 344.606,-88 366,-102.263\"/>\r\n",
       "<text text-anchor=\"middle\" x=\"331\" y=\"-110.3\" font-family=\"Times New Roman,serif\" font-size=\"14.00\">1</text>\r\n",
       "</g>\r\n",
       "<!-- I_4&#45;&gt;1 -->\r\n",
       "<g id=\"edge8\" class=\"edge\"><title>I_4&#45;&gt;1</title>\r\n",
       "<path fill=\"none\" stroke=\"black\" d=\"M259.141,-182.571C271.114,-171.312 287.764,-155.656 302.022,-142.249\"/>\r\n",
       "<polygon fill=\"black\" stroke=\"black\" points=\"304.765,-144.474 309.652,-135.074 299.969,-139.374 304.765,-144.474\"/>\r\n",
       "</g>\r\n",
       "</g>\r\n",
       "</svg>\r\n"
      ],
      "text/plain": [
       "<graphviz.dot.Digraph at 0x20c2fe62860>"
      ]
     },
     "execution_count": 15,
     "metadata": {},
     "output_type": "execute_result"
    }
   ],
   "source": [
    "from graphviz import Digraph\n",
    "dot = Digraph()\n",
    "\n",
    "N = 5\n",
    "global cpt\n",
    "cpt = 2\n",
    "\n",
    "def generateDiagraph(tree, graph):\n",
    "    global cpt\n",
    "    \n",
    "    if (tree == None):\n",
    "        return\n",
    "    \n",
    "    root = str(tree.data)\n",
    "    \n",
    "    right = tree.right\n",
    "    left = tree.left\n",
    "    \n",
    "    if (right != None):\n",
    "        if (right.data == None):\n",
    "            right.data = \"I_\"+str(cpt)\n",
    "            cpt+=1\n",
    "\n",
    "        leaf = True if (right.left == None and right.right == None) else False\n",
    "        graph.node(str(right.data), shape='tripleoctagon' if leaf else 'circle')\n",
    "        graph.edge(root, str(right.data))\n",
    "        generateDiagraph(tree.right, graph)\n",
    "    \n",
    "    if (left != None):\n",
    "        if (left.data == None):\n",
    "            left.data = \"I_\"+str(cpt)\n",
    "            cpt+=1\n",
    "        \n",
    "        leaf = True if (left.left == None and left.right == None) else False\n",
    "        graph.node(str(left.data), shape='tripleoctagon' if leaf else 'circle')\n",
    "        graph.edge(root, str(left.data))\n",
    "        generateDiagraph(tree.left, graph)\n",
    "\n",
    "testTree = gen_remy(N)\n",
    "testTree.data = \"I_1\"\n",
    "dot.node(testTree.data, shape='invhouse')\n",
    "generateDiagraph(testTree, dot)\n",
    "\n",
    "dot"
   ]
  },
  {
   "cell_type": "code",
   "execution_count": null,
   "metadata": {},
   "outputs": [],
   "source": []
  }
 ],
 "metadata": {
  "kernelspec": {
   "display_name": "Python 3",
   "language": "python",
   "name": "python3"
  },
  "language_info": {
   "codemirror_mode": {
    "name": "ipython",
    "version": 3
   },
   "file_extension": ".py",
   "mimetype": "text/x-python",
   "name": "python",
   "nbconvert_exporter": "python",
   "pygments_lexer": "ipython3",
   "version": "3.7.1"
  }
 },
 "nbformat": 4,
 "nbformat_minor": 4
}
