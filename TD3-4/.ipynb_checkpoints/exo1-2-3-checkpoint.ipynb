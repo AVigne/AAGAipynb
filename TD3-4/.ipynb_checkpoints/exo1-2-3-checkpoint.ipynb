{
 "cells": [
  {
   "cell_type": "markdown",
   "metadata": {},
   "source": [
    "# Exercice 1\n"
   ]
  },
  {
   "cell_type": "code",
   "execution_count": 1,
   "metadata": {},
   "outputs": [],
   "source": [
    "#question 1\n",
    "def RAND48(seed):\n",
    "    a = 25214903917\n",
    "    c = 11\n",
    "    m = 2**48\n",
    "    res = (((a*seed)+c)%m)\n",
    "    return res"
   ]
  },
  {
   "cell_type": "code",
   "execution_count": 2,
   "metadata": {},
   "outputs": [],
   "source": [
    "#question 2\n",
    "global seedGlobale\n",
    "seedGlobale = -1\n",
    "\n",
    "def initRAND48(s):\n",
    "    seedGlobale = s"
   ]
  },
  {
   "cell_type": "code",
   "execution_count": 3,
   "metadata": {},
   "outputs": [
    {
     "data": {
      "text/plain": [
       "'0'"
      ]
     },
     "execution_count": 3,
     "metadata": {},
     "output_type": "execute_result"
    }
   ],
   "source": [
    "#question 3\n",
    "\n",
    "global genere\n",
    "genere = []\n",
    "\n",
    "def bit_suivant():\n",
    "    global genere\n",
    "    global seedGlobale\n",
    "    if len(genere) > 0:\n",
    "        res = genere[-1]\n",
    "        genere.pop()\n",
    "        return res\n",
    "    seedGlobale = RAND48(seedGlobale) \n",
    "    genere = list(bin(seedGlobale))[2:]\n",
    "    while(len(genere) < 48):\n",
    "        genere.insert(0,0)\n",
    "    return bit_suivant()\n",
    "\n",
    "bit_suivant()"
   ]
  },
  {
   "cell_type": "code",
   "execution_count": 4,
   "metadata": {},
   "outputs": [],
   "source": [
    "#question 4\n",
    "def gen_uniforme(bMax):\n",
    "    binBMax = bin(bMax)[2:]\n",
    "    res = 0\n",
    "    for i in range(len(binBMax)):\n",
    "        res = res*10 + int(bit_suivant())\n",
    "    if int(binBMax,2) < int(str(res),2):\n",
    "        return gen_uniforme(bMax)\n",
    "    return int(str(res),2)\n",
    "    "
   ]
  },
  {
   "cell_type": "code",
   "execution_count": 5,
   "metadata": {},
   "outputs": [
    {
     "name": "stdout",
     "output_type": "stream",
     "text": [
      "Proportion des tirages des i allant de 0 à 5 :\n",
      "[0.166691, 0.166807, 0.166571, 0.166536, 0.166539, 0.166856]\n"
     ]
    }
   ],
   "source": [
    "#Vérification de l'uniformité\n",
    "\n",
    "N = 5\n",
    "ite = 1000000\n",
    "\n",
    "listUni = [0 for i in range (N+1)]\n",
    "\n",
    "for _ in range (ite):\n",
    "    number = gen_uniforme(N)\n",
    "    #print(\"Gen \"+str(number))\n",
    "    listUni[number] = listUni[number] + 1\n",
    "\n",
    "listUni = [i/ite for i in listUni]\n",
    "print(\"Proportion des tirages des i allant de 0 à \"+str(N)+\" :\")\n",
    "print(listUni)"
   ]
  },
  {
   "cell_type": "markdown",
   "metadata": {},
   "source": [
    "---\n",
    "\n",
    "# Exercice 2\n",
    "\n",
    "\n",
    "### Question 2.1"
   ]
  },
  {
   "cell_type": "code",
   "execution_count": 6,
   "metadata": {},
   "outputs": [],
   "source": [
    "#question 1\n",
    "class Node:\n",
    "\n",
    "    def __init__(self, data):\n",
    "\n",
    "        self.left = None\n",
    "        self.right = None\n",
    "        self.data = data\n",
    "        self.father = None\n",
    "\n",
    "        \n",
    "# findval method to compare the value with nodes\n",
    "    def contient(self, lkpval):\n",
    "        if lkpval == self.data:\n",
    "            return True\n",
    "        b1 = False\n",
    "        b2 = False\n",
    "        if self.left:\n",
    "            b1 = self.left.contient(lkpval)\n",
    "        if (not b1) and self.right:\n",
    "            b2 = self.right.contient(lkpval)\n",
    "        return b1 or b2 \n"
   ]
  },
  {
   "cell_type": "markdown",
   "metadata": {},
   "source": [
    "\n",
    "### Question 2.2"
   ]
  },
  {
   "cell_type": "code",
   "execution_count": 7,
   "metadata": {},
   "outputs": [],
   "source": [
    "#question 2\n",
    "def arbre2str(abr):\n",
    "    res = \"(\"\n",
    "    if abr.left:\n",
    "        res += arbre2str(abr.left)\n",
    "    if abr.right:\n",
    "        res += arbre2str(abr.right)\n",
    "    res += \")\"\n",
    "    return res"
   ]
  },
  {
   "cell_type": "markdown",
   "metadata": {},
   "source": [
    "---\n",
    "\n",
    "# Exercice 3\n",
    "\n",
    "### Question 3.1"
   ]
  },
  {
   "cell_type": "code",
   "execution_count": 8,
   "metadata": {},
   "outputs": [],
   "source": [
    "#question 1\n",
    "from random import *\n",
    "\n",
    "def gen_remy(n):\n",
    "    if n <= 0:\n",
    "        return \"n invalide\"\n",
    "    root = Node(1)\n",
    "    listeNodes = [root]\n",
    "    for i in range(1,n):\n",
    "        current = choice(listeNodes)\n",
    "        newG = None\n",
    "        newD = None\n",
    "        if random() < 0.5:\n",
    "            newG = current\n",
    "            newD = Node(i+1)\n",
    "        else:\n",
    "            newD = current\n",
    "            newG = Node(i+1)\n",
    "        listeNodes.remove(current)\n",
    "        newC = Node(None)\n",
    "        newC.father = current.father\n",
    "        newC.left = newG\n",
    "        newC.right = newD\n",
    "        if current.father == None:\n",
    "            pass\n",
    "        elif current.father.left == current:\n",
    "            current.father.left = newC\n",
    "        else:\n",
    "            current.father.right = newC\n",
    "        newG.father = newC\n",
    "        newD.father = newC\n",
    "        listeNodes.append(newG)\n",
    "        listeNodes.append(newC)\n",
    "        listeNodes.append(newD)\n",
    "    root0 = filter(lambda x : x.father == None,listeNodes)\n",
    "    return next(root0)\n",
    "    "
   ]
  },
  {
   "cell_type": "markdown",
   "metadata": {},
   "source": [
    "### Question 3.2"
   ]
  },
  {
   "cell_type": "code",
   "execution_count": 9,
   "metadata": {},
   "outputs": [
    {
     "data": {
      "text/plain": [
       "'(()(()((()(()(()((()(()()))()))))())))'"
      ]
     },
     "execution_count": 9,
     "metadata": {},
     "output_type": "execute_result"
    }
   ],
   "source": [
    "arbre2str(gen_remy(10))"
   ]
  },
  {
   "cell_type": "code",
   "execution_count": 10,
   "metadata": {},
   "outputs": [],
   "source": [
    "#arbre2str(gen_remy(30))"
   ]
  },
  {
   "cell_type": "code",
   "execution_count": 11,
   "metadata": {},
   "outputs": [],
   "source": [
    "#arbre2str(gen_remy(50))"
   ]
  },
  {
   "cell_type": "code",
   "execution_count": 12,
   "metadata": {},
   "outputs": [],
   "source": [
    "#arbre2str(gen_remy(100))"
   ]
  },
  {
   "cell_type": "code",
   "execution_count": 13,
   "metadata": {
    "scrolled": true
   },
   "outputs": [],
   "source": [
    "#arbre2str(gen_remy(1000))"
   ]
  },
  {
   "cell_type": "code",
   "execution_count": 14,
   "metadata": {
    "scrolled": true
   },
   "outputs": [],
   "source": [
    "#arbre2str(gen_remy(10000))"
   ]
  },
  {
   "cell_type": "markdown",
   "metadata": {},
   "source": [
    "### Représentation graphique des arbres générés"
   ]
  },
  {
   "cell_type": "code",
   "execution_count": 15,
   "metadata": {},
   "outputs": [
    {
     "data": {
      "image/svg+xml": [
       "<?xml version=\"1.0\" encoding=\"UTF-8\" standalone=\"no\"?>\r\n",
       "<!DOCTYPE svg PUBLIC \"-//W3C//DTD SVG 1.1//EN\"\r\n",
       " \"http://www.w3.org/Graphics/SVG/1.1/DTD/svg11.dtd\">\r\n",
       "<!-- Generated by graphviz version 2.38.0 (20140413.2041)\r\n",
       " -->\r\n",
       "<!-- Title: %3 Pages: 1 -->\r\n",
       "<svg width=\"318pt\" height=\"301pt\"\r\n",
       " viewBox=\"0.00 0.00 318.00 301.50\" xmlns=\"http://www.w3.org/2000/svg\" xmlns:xlink=\"http://www.w3.org/1999/xlink\">\r\n",
       "<g id=\"graph0\" class=\"graph\" transform=\"scale(1 1) rotate(0) translate(4 297.496)\">\r\n",
       "<title>%3</title>\r\n",
       "<polygon fill=\"white\" stroke=\"none\" points=\"-4,4 -4,-297.496 314,-297.496 314,4 -4,4\"/>\r\n",
       "<!-- I_1 -->\r\n",
       "<g id=\"node1\" class=\"node\"><title>I_1</title>\r\n",
       "<polygon fill=\"none\" stroke=\"black\" points=\"132.763,-269.934 161,-257.496 189.237,-269.934 189.21,-290.058 132.79,-290.058 132.763,-269.934\"/>\r\n",
       "<text text-anchor=\"middle\" x=\"161\" y=\"-271.796\" font-family=\"Times New Roman,serif\" font-size=\"14.00\">I_1</text>\r\n",
       "</g>\r\n",
       "<!-- I_2 -->\r\n",
       "<g id=\"node2\" class=\"node\"><title>I_2</title>\r\n",
       "<ellipse fill=\"none\" stroke=\"black\" cx=\"123\" cy=\"-198.748\" rx=\"22.9987\" ry=\"22.9987\"/>\r\n",
       "<text text-anchor=\"middle\" x=\"123\" y=\"-195.048\" font-family=\"Times New Roman,serif\" font-size=\"14.00\">I_2</text>\r\n",
       "</g>\r\n",
       "<!-- I_1&#45;&gt;I_2 -->\r\n",
       "<g id=\"edge1\" class=\"edge\"><title>I_1&#45;&gt;I_2</title>\r\n",
       "<path fill=\"none\" stroke=\"black\" d=\"M153.852,-260.436C149.296,-251.474 143.226,-239.534 137.676,-228.616\"/>\r\n",
       "<polygon fill=\"black\" stroke=\"black\" points=\"140.635,-226.714 132.983,-219.386 134.395,-229.886 140.635,-226.714\"/>\r\n",
       "</g>\r\n",
       "<!-- I_3 -->\r\n",
       "<g id=\"node5\" class=\"node\"><title>I_3</title>\r\n",
       "<ellipse fill=\"none\" stroke=\"black\" cx=\"199\" cy=\"-198.748\" rx=\"22.9987\" ry=\"22.9987\"/>\r\n",
       "<text text-anchor=\"middle\" x=\"199\" y=\"-195.048\" font-family=\"Times New Roman,serif\" font-size=\"14.00\">I_3</text>\r\n",
       "</g>\r\n",
       "<!-- I_1&#45;&gt;I_3 -->\r\n",
       "<g id=\"edge4\" class=\"edge\"><title>I_1&#45;&gt;I_3</title>\r\n",
       "<path fill=\"none\" stroke=\"black\" d=\"M168.148,-260.436C172.704,-251.474 178.774,-239.534 184.324,-228.616\"/>\r\n",
       "<polygon fill=\"black\" stroke=\"black\" points=\"187.605,-229.886 189.017,-219.386 181.365,-226.714 187.605,-229.886\"/>\r\n",
       "</g>\r\n",
       "<!-- 1 -->\r\n",
       "<g id=\"node3\" class=\"node\"><title>1</title>\r\n",
       "<polygon fill=\"none\" stroke=\"black\" points=\"62,-106.544 62,-121.456 46.1838,-132 23.8162,-132 8,-121.456 8,-106.544 23.8162,-96 46.1838,-96 62,-106.544\"/>\r\n",
       "<polygon fill=\"none\" stroke=\"black\" points=\"66,-104.403 66,-123.597 47.3949,-136 22.6051,-136 4,-123.597 4,-104.403 22.6051,-92 47.3949,-92 66,-104.403\"/>\r\n",
       "<polygon fill=\"none\" stroke=\"black\" points=\"70,-102.263 70,-125.737 48.606,-140 21.394,-140 1.42109e-014,-125.737 7.10543e-015,-102.263 21.394,-88 48.606,-88 70,-102.263\"/>\r\n",
       "<text text-anchor=\"middle\" x=\"35\" y=\"-110.3\" font-family=\"Times New Roman,serif\" font-size=\"14.00\">1</text>\r\n",
       "</g>\r\n",
       "<!-- I_2&#45;&gt;1 -->\r\n",
       "<g id=\"edge2\" class=\"edge\"><title>I_2&#45;&gt;1</title>\r\n",
       "<path fill=\"none\" stroke=\"black\" d=\"M106.859,-182.571C94.8858,-171.312 78.2362,-155.656 63.9782,-142.249\"/>\r\n",
       "<polygon fill=\"black\" stroke=\"black\" points=\"66.0307,-139.374 56.348,-135.074 61.2355,-144.474 66.0307,-139.374\"/>\r\n",
       "</g>\r\n",
       "<!-- 4 -->\r\n",
       "<g id=\"node4\" class=\"node\"><title>4</title>\r\n",
       "<polygon fill=\"none\" stroke=\"black\" points=\"150,-106.544 150,-121.456 134.184,-132 111.816,-132 96,-121.456 96,-106.544 111.816,-96 134.184,-96 150,-106.544\"/>\r\n",
       "<polygon fill=\"none\" stroke=\"black\" points=\"154,-104.403 154,-123.597 135.395,-136 110.605,-136 92,-123.597 92,-104.403 110.605,-92 135.395,-92 154,-104.403\"/>\r\n",
       "<polygon fill=\"none\" stroke=\"black\" points=\"158,-102.263 158,-125.737 136.606,-140 109.394,-140 88,-125.737 88,-102.263 109.394,-88 136.606,-88 158,-102.263\"/>\r\n",
       "<text text-anchor=\"middle\" x=\"123\" y=\"-110.3\" font-family=\"Times New Roman,serif\" font-size=\"14.00\">4</text>\r\n",
       "</g>\r\n",
       "<!-- I_2&#45;&gt;4 -->\r\n",
       "<g id=\"edge3\" class=\"edge\"><title>I_2&#45;&gt;4</title>\r\n",
       "<path fill=\"none\" stroke=\"black\" d=\"M123,-175.573C123,-167.813 123,-158.895 123,-150.331\"/>\r\n",
       "<polygon fill=\"black\" stroke=\"black\" points=\"126.5,-150.161 123,-140.161 119.5,-150.161 126.5,-150.161\"/>\r\n",
       "</g>\r\n",
       "<!-- I_4 -->\r\n",
       "<g id=\"node6\" class=\"node\"><title>I_4</title>\r\n",
       "<ellipse fill=\"none\" stroke=\"black\" cx=\"199\" cy=\"-114\" rx=\"22.9987\" ry=\"22.9987\"/>\r\n",
       "<text text-anchor=\"middle\" x=\"199\" y=\"-110.3\" font-family=\"Times New Roman,serif\" font-size=\"14.00\">I_4</text>\r\n",
       "</g>\r\n",
       "<!-- I_3&#45;&gt;I_4 -->\r\n",
       "<g id=\"edge5\" class=\"edge\"><title>I_3&#45;&gt;I_4</title>\r\n",
       "<path fill=\"none\" stroke=\"black\" d=\"M199,-175.573C199,-166.877 199,-156.728 199,-147.251\"/>\r\n",
       "<polygon fill=\"black\" stroke=\"black\" points=\"202.5,-146.949 199,-136.949 195.5,-146.949 202.5,-146.949\"/>\r\n",
       "</g>\r\n",
       "<!-- 3 -->\r\n",
       "<g id=\"node9\" class=\"node\"><title>3</title>\r\n",
       "<polygon fill=\"none\" stroke=\"black\" points=\"302,-106.544 302,-121.456 286.184,-132 263.816,-132 248,-121.456 248,-106.544 263.816,-96 286.184,-96 302,-106.544\"/>\r\n",
       "<polygon fill=\"none\" stroke=\"black\" points=\"306,-104.403 306,-123.597 287.395,-136 262.605,-136 244,-123.597 244,-104.403 262.605,-92 287.395,-92 306,-104.403\"/>\r\n",
       "<polygon fill=\"none\" stroke=\"black\" points=\"310,-102.263 310,-125.737 288.606,-140 261.394,-140 240,-125.737 240,-102.263 261.394,-88 288.606,-88 310,-102.263\"/>\r\n",
       "<text text-anchor=\"middle\" x=\"275\" y=\"-110.3\" font-family=\"Times New Roman,serif\" font-size=\"14.00\">3</text>\r\n",
       "</g>\r\n",
       "<!-- I_3&#45;&gt;3 -->\r\n",
       "<g id=\"edge8\" class=\"edge\"><title>I_3&#45;&gt;3</title>\r\n",
       "<path fill=\"none\" stroke=\"black\" d=\"M214.015,-181.4C223.831,-170.712 236.924,-156.456 248.462,-143.894\"/>\r\n",
       "<polygon fill=\"black\" stroke=\"black\" points=\"251.215,-146.071 255.402,-136.338 246.06,-141.336 251.215,-146.071\"/>\r\n",
       "</g>\r\n",
       "<!-- 2 -->\r\n",
       "<g id=\"node7\" class=\"node\"><title>2</title>\r\n",
       "<polygon fill=\"none\" stroke=\"black\" points=\"182,-18.5442 182,-33.4558 166.184,-44 143.816,-44 128,-33.4558 128,-18.5442 143.816,-8 166.184,-8 182,-18.5442\"/>\r\n",
       "<polygon fill=\"none\" stroke=\"black\" points=\"186,-16.4034 186,-35.5966 167.395,-48 142.605,-48 124,-35.5966 124,-16.4034 142.605,-4 167.395,-4 186,-16.4034\"/>\r\n",
       "<polygon fill=\"none\" stroke=\"black\" points=\"190,-14.2627 190,-37.7373 168.606,-52 141.394,-52 120,-37.7373 120,-14.2627 141.394,-3.55271e-015 168.606,-0 190,-14.2627\"/>\r\n",
       "<text text-anchor=\"middle\" x=\"155\" y=\"-22.3\" font-family=\"Times New Roman,serif\" font-size=\"14.00\">2</text>\r\n",
       "</g>\r\n",
       "<!-- I_4&#45;&gt;2 -->\r\n",
       "<g id=\"edge6\" class=\"edge\"><title>I_4&#45;&gt;2</title>\r\n",
       "<path fill=\"none\" stroke=\"black\" d=\"M189.016,-93.4853C184.143,-83.9609 178.135,-72.219 172.532,-61.2663\"/>\r\n",
       "<polygon fill=\"black\" stroke=\"black\" points=\"175.624,-59.6261 167.953,-52.3178 169.392,-62.8144 175.624,-59.6261\"/>\r\n",
       "</g>\r\n",
       "<!-- 5 -->\r\n",
       "<g id=\"node8\" class=\"node\"><title>5</title>\r\n",
       "<polygon fill=\"none\" stroke=\"black\" points=\"270,-18.5442 270,-33.4558 254.184,-44 231.816,-44 216,-33.4558 216,-18.5442 231.816,-8 254.184,-8 270,-18.5442\"/>\r\n",
       "<polygon fill=\"none\" stroke=\"black\" points=\"274,-16.4034 274,-35.5966 255.395,-48 230.605,-48 212,-35.5966 212,-16.4034 230.605,-4 255.395,-4 274,-16.4034\"/>\r\n",
       "<polygon fill=\"none\" stroke=\"black\" points=\"278,-14.2627 278,-37.7373 256.606,-52 229.394,-52 208,-37.7373 208,-14.2627 229.394,-3.55271e-015 256.606,-0 278,-14.2627\"/>\r\n",
       "<text text-anchor=\"middle\" x=\"243\" y=\"-22.3\" font-family=\"Times New Roman,serif\" font-size=\"14.00\">5</text>\r\n",
       "</g>\r\n",
       "<!-- I_4&#45;&gt;5 -->\r\n",
       "<g id=\"edge7\" class=\"edge\"><title>I_4&#45;&gt;5</title>\r\n",
       "<path fill=\"none\" stroke=\"black\" d=\"M208.984,-93.4853C213.857,-83.9609 219.865,-72.219 225.468,-61.2663\"/>\r\n",
       "<polygon fill=\"black\" stroke=\"black\" points=\"228.608,-62.8144 230.047,-52.3178 222.376,-59.6261 228.608,-62.8144\"/>\r\n",
       "</g>\r\n",
       "</g>\r\n",
       "</svg>\r\n"
      ],
      "text/plain": [
       "<graphviz.dot.Digraph at 0x1c418f5f4e0>"
      ]
     },
     "execution_count": 15,
     "metadata": {},
     "output_type": "execute_result"
    }
   ],
   "source": [
    "from graphviz import Digraph\n",
    "dot = Digraph()\n",
    "\n",
    "N = 5\n",
    "global cpt\n",
    "cpt = 2\n",
    "\n",
    "def generateDigraph(tree, graph):\n",
    "    global cpt\n",
    "    \n",
    "    if (tree == None):\n",
    "        return\n",
    "    \n",
    "    root = str(tree.data)\n",
    "    \n",
    "    right = tree.right\n",
    "    left = tree.left\n",
    "    \n",
    "    if (right != None):\n",
    "        if (right.data == None):\n",
    "            right.data = \"I_\"+str(cpt)\n",
    "            cpt+=1\n",
    "\n",
    "        leaf = True if (right.left == None and right.right == None) else False\n",
    "        graph.node(str(right.data), shape='tripleoctagon' if leaf else 'circle')\n",
    "        graph.edge(root, str(right.data))\n",
    "        generateDigraph(tree.right, graph)\n",
    "    \n",
    "    if (left != None):\n",
    "        if (left.data == None):\n",
    "            left.data = \"I_\"+str(cpt)\n",
    "            cpt+=1\n",
    "        \n",
    "        leaf = True if (left.left == None and left.right == None) else False\n",
    "        graph.node(str(left.data), shape='tripleoctagon' if leaf else 'circle')\n",
    "        graph.edge(root, str(left.data))\n",
    "        generateDigraph(tree.left, graph)\n",
    "\n",
    "testTree = gen_remy(N)\n",
    "testTree.data = \"I_1\"\n",
    "dot.node(testTree.data, shape='invhouse')\n",
    "generateDigraph(testTree, dot)\n",
    "\n",
    "dot"
   ]
  }
 ],
 "metadata": {
  "kernelspec": {
   "display_name": "Python 3",
   "language": "python",
   "name": "python3"
  },
  "language_info": {
   "codemirror_mode": {
    "name": "ipython",
    "version": 3
   },
   "file_extension": ".py",
   "mimetype": "text/x-python",
   "name": "python",
   "nbconvert_exporter": "python",
   "pygments_lexer": "ipython3",
   "version": "3.7.1"
  }
 },
 "nbformat": 4,
 "nbformat_minor": 4
}
