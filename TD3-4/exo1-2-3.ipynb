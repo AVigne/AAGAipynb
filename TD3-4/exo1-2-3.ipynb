{
 "cells": [
  {
   "cell_type": "markdown",
   "metadata": {},
   "source": [
    "# Exercice 1\n"
   ]
  },
  {
   "cell_type": "code",
   "execution_count": 1,
   "metadata": {},
   "outputs": [],
   "source": [
    "#question 1\n",
    "def RAND48(seed):\n",
    "    a = 25214903917\n",
    "    c = 11\n",
    "    m = 2**48\n",
    "    res = (((a*seed)+c)%m)\n",
    "    return res"
   ]
  },
  {
   "cell_type": "code",
   "execution_count": 2,
   "metadata": {},
   "outputs": [],
   "source": [
    "#question 2\n",
    "global seedGlobale\n",
    "seedGlobale = -1\n",
    "\n",
    "def initRAND48(s):\n",
    "    seedGlobale = s"
   ]
  },
  {
   "cell_type": "code",
   "execution_count": 3,
   "metadata": {},
   "outputs": [
    {
     "data": {
      "text/plain": [
       "'0'"
      ]
     },
     "execution_count": 3,
     "metadata": {},
     "output_type": "execute_result"
    }
   ],
   "source": [
    "#question 3\n",
    "\n",
    "global genere\n",
    "genere = []\n",
    "\n",
    "def bit_suivant():\n",
    "    global genere\n",
    "    global seedGlobale\n",
    "    if len(genere) > 0:\n",
    "        res = genere[-1]\n",
    "        genere.pop()\n",
    "        return res\n",
    "    seedGlobale = RAND48(seedGlobale) \n",
    "    genere = list(bin(seedGlobale))[2:]\n",
    "    while(len(genere) < 48):\n",
    "        genere.insert(0,0)\n",
    "    return bit_suivant()\n",
    "\n",
    "bit_suivant()"
   ]
  },
  {
   "cell_type": "code",
   "execution_count": 4,
   "metadata": {},
   "outputs": [],
   "source": [
    "#question 4\n",
    "def gen_uniforme(bMax):\n",
    "    binBMax = bin(bMax)[2:]\n",
    "    res = 0\n",
    "    for i in range(len(binBMax)):\n",
    "        res = res*10 + int(bit_suivant())\n",
    "    if int(binBMax,2) < int(str(res),2):\n",
    "        return gen_uniforme(bMax)\n",
    "    return int(str(res),2)\n",
    "    "
   ]
  },
  {
   "cell_type": "code",
   "execution_count": 5,
   "metadata": {},
   "outputs": [
    {
     "name": "stdout",
     "output_type": "stream",
     "text": [
      "Proportion des tirages des i allant de 0 à 5 :\n",
      "[0.166691, 0.166807, 0.166571, 0.166536, 0.166539, 0.166856]\n"
     ]
    }
   ],
   "source": [
    "#Vérification de l'uniformité\n",
    "\n",
    "N = 5\n",
    "ite = 1000000\n",
    "\n",
    "listUni = [0 for i in range (N+1)]\n",
    "\n",
    "for _ in range (ite):\n",
    "    number = gen_uniforme(N)\n",
    "    #print(\"Gen \"+str(number))\n",
    "    listUni[number] = listUni[number] + 1\n",
    "\n",
    "listUni = [i/ite for i in listUni]\n",
    "print(\"Proportion des tirages des i allant de 0 à \"+str(N)+\" :\")\n",
    "print(listUni)"
   ]
  },
  {
   "cell_type": "markdown",
   "metadata": {},
   "source": [
    "---\n",
    "\n",
    "# Exercice 2\n",
    "\n",
    "\n",
    "### Question 2.1"
   ]
  },
  {
   "cell_type": "code",
   "execution_count": 6,
   "metadata": {},
   "outputs": [],
   "source": [
    "#question 1\n",
    "class Node:\n",
    "\n",
    "    def __init__(self, data):\n",
    "\n",
    "        self.left = None\n",
    "        self.right = None\n",
    "        self.data = data\n",
    "        self.father = None\n",
    "\n",
    "        \n",
    "# findval method to compare the value with nodes\n",
    "    def contient(self, lkpval):\n",
    "        if lkpval == self.data:\n",
    "            return True\n",
    "        b1 = False\n",
    "        b2 = False\n",
    "        if self.left:\n",
    "            b1 = self.left.contient(lkpval)\n",
    "        if (not b1) and self.right:\n",
    "            b2 = self.right.contient(lkpval)\n",
    "        return b1 or b2 "
   ]
  },
  {
   "cell_type": "markdown",
   "metadata": {},
   "source": [
    "\n",
    "### Question 2.2"
   ]
  },
  {
   "cell_type": "code",
   "execution_count": 7,
   "metadata": {},
   "outputs": [],
   "source": [
    "#question 2\n",
    "def arbre2str(abr):\n",
    "    res = \"(\"\n",
    "    if abr.left:\n",
    "        res += arbre2str(abr.left)\n",
    "    if abr.right:\n",
    "        res += arbre2str(abr.right)\n",
    "    res += \")\"\n",
    "    return res"
   ]
  },
  {
   "cell_type": "markdown",
   "metadata": {},
   "source": [
    "---\n",
    "\n",
    "# Exercice 3\n",
    "\n",
    "### Question 3.1"
   ]
  },
  {
   "cell_type": "code",
   "execution_count": 8,
   "metadata": {},
   "outputs": [],
   "source": [
    "#question 1\n",
    "from random import *\n",
    "\n",
    "def gen_remy(n):\n",
    "    if n <= 0:\n",
    "        return \"n invalide\"\n",
    "    root = Node(1)\n",
    "    listeNodes = [root]\n",
    "    for i in range(1,n):\n",
    "        current = choice(listeNodes)\n",
    "        newG = None\n",
    "        newD = None\n",
    "        if random() < 0.5:\n",
    "            newG = current\n",
    "            newD = Node(i+1)\n",
    "        else:\n",
    "            newD = current\n",
    "            newG = Node(i+1)\n",
    "        listeNodes.remove(current)\n",
    "        newC = Node(None)\n",
    "        newC.father = current.father\n",
    "        newC.left = newG\n",
    "        newC.right = newD\n",
    "        if current.father == None:\n",
    "            pass\n",
    "        elif current.father.left == current:\n",
    "            current.father.left = newC\n",
    "        else:\n",
    "            current.father.right = newC\n",
    "        newG.father = newC\n",
    "        newD.father = newC\n",
    "        listeNodes.append(newG)\n",
    "        listeNodes.append(newC)\n",
    "        listeNodes.append(newD)\n",
    "    root0 = filter(lambda x : x.father == None,listeNodes)\n",
    "    return next(root0)\n",
    "    "
   ]
  },
  {
   "cell_type": "markdown",
   "metadata": {},
   "source": [
    "### Question 3.2"
   ]
  },
  {
   "cell_type": "code",
   "execution_count": 9,
   "metadata": {},
   "outputs": [
    {
     "data": {
      "text/plain": [
       "'(()(((((((()())())(()()))())())())()))'"
      ]
     },
     "execution_count": 9,
     "metadata": {},
     "output_type": "execute_result"
    }
   ],
   "source": [
    "arbre2str(gen_remy(10))"
   ]
  },
  {
   "cell_type": "code",
   "execution_count": 10,
   "metadata": {},
   "outputs": [],
   "source": [
    "#arbre2str(gen_remy(30))"
   ]
  },
  {
   "cell_type": "code",
   "execution_count": 11,
   "metadata": {},
   "outputs": [],
   "source": [
    "#arbre2str(gen_remy(50))"
   ]
  },
  {
   "cell_type": "code",
   "execution_count": 12,
   "metadata": {},
   "outputs": [],
   "source": [
    "#arbre2str(gen_remy(100))"
   ]
  },
  {
   "cell_type": "code",
   "execution_count": 13,
   "metadata": {
    "scrolled": true
   },
   "outputs": [],
   "source": [
    "#arbre2str(gen_remy(1000))"
   ]
  },
  {
   "cell_type": "code",
   "execution_count": 14,
   "metadata": {
    "scrolled": true
   },
   "outputs": [],
   "source": [
    "#arbre2str(gen_remy(10000))"
   ]
  },
  {
   "cell_type": "markdown",
   "metadata": {},
   "source": [
    "### Représentation graphique des arbres générés"
   ]
  },
  {
   "cell_type": "code",
   "execution_count": 15,
   "metadata": {},
   "outputs": [
    {
     "data": {
      "image/svg+xml": [
       "<?xml version=\"1.0\" encoding=\"UTF-8\" standalone=\"no\"?>\r\n",
       "<!DOCTYPE svg PUBLIC \"-//W3C//DTD SVG 1.1//EN\"\r\n",
       " \"http://www.w3.org/Graphics/SVG/1.1/DTD/svg11.dtd\">\r\n",
       "<!-- Generated by graphviz version 2.38.0 (20140413.2041)\r\n",
       " -->\r\n",
       "<!-- Title: %3 Pages: 1 -->\r\n",
       "<svg width=\"342pt\" height=\"301pt\"\r\n",
       " viewBox=\"0.00 0.00 342.00 301.50\" xmlns=\"http://www.w3.org/2000/svg\" xmlns:xlink=\"http://www.w3.org/1999/xlink\">\r\n",
       "<g id=\"graph0\" class=\"graph\" transform=\"scale(1 1) rotate(0) translate(4 297.496)\">\r\n",
       "<title>%3</title>\r\n",
       "<polygon fill=\"white\" stroke=\"none\" points=\"-4,4 -4,-297.496 338,-297.496 338,4 -4,4\"/>\r\n",
       "<!-- I_1 -->\r\n",
       "<g id=\"node1\" class=\"node\"><title>I_1</title>\r\n",
       "<polygon fill=\"none\" stroke=\"black\" points=\"100.763,-269.934 129,-257.496 157.237,-269.934 157.21,-290.058 100.79,-290.058 100.763,-269.934\"/>\r\n",
       "<text text-anchor=\"middle\" x=\"129\" y=\"-271.796\" font-family=\"Times New Roman,serif\" font-size=\"14.00\">I_1</text>\r\n",
       "</g>\r\n",
       "<!-- 1 -->\r\n",
       "<g id=\"node2\" class=\"node\"><title>1</title>\r\n",
       "<polygon fill=\"none\" stroke=\"black\" points=\"118,-188.04 118,-202.952 102.184,-213.496 79.8162,-213.496 64,-202.952 64,-188.04 79.8162,-177.496 102.184,-177.496 118,-188.04\"/>\r\n",
       "<polygon fill=\"none\" stroke=\"black\" points=\"122,-185.899 122,-205.093 103.395,-217.496 78.6051,-217.496 60,-205.093 60,-185.899 78.6051,-173.496 103.395,-173.496 122,-185.899\"/>\r\n",
       "<polygon fill=\"none\" stroke=\"black\" points=\"126,-183.759 126,-207.233 104.606,-221.496 77.394,-221.496 56,-207.233 56,-183.759 77.394,-169.496 104.606,-169.496 126,-183.759\"/>\r\n",
       "<text text-anchor=\"middle\" x=\"91\" y=\"-191.796\" font-family=\"Times New Roman,serif\" font-size=\"14.00\">1</text>\r\n",
       "</g>\r\n",
       "<!-- I_1&#45;&gt;1 -->\r\n",
       "<g id=\"edge1\" class=\"edge\"><title>I_1&#45;&gt;1</title>\r\n",
       "<path fill=\"none\" stroke=\"black\" d=\"M122.03,-260.19C118.028,-251.973 112.815,-241.274 107.808,-230.996\"/>\r\n",
       "<polygon fill=\"black\" stroke=\"black\" points=\"110.834,-229.217 103.308,-221.76 104.541,-232.283 110.834,-229.217\"/>\r\n",
       "</g>\r\n",
       "<!-- I_2 -->\r\n",
       "<g id=\"node3\" class=\"node\"><title>I_2</title>\r\n",
       "<ellipse fill=\"none\" stroke=\"black\" cx=\"167\" cy=\"-195.496\" rx=\"22.9987\" ry=\"22.9987\"/>\r\n",
       "<text text-anchor=\"middle\" x=\"167\" y=\"-191.796\" font-family=\"Times New Roman,serif\" font-size=\"14.00\">I_2</text>\r\n",
       "</g>\r\n",
       "<!-- I_1&#45;&gt;I_2 -->\r\n",
       "<g id=\"edge2\" class=\"edge\"><title>I_1&#45;&gt;I_2</title>\r\n",
       "<path fill=\"none\" stroke=\"black\" d=\"M135.97,-260.19C140.704,-250.473 147.13,-237.282 152.907,-225.424\"/>\r\n",
       "<polygon fill=\"black\" stroke=\"black\" points=\"156.122,-226.815 157.356,-216.292 149.83,-223.749 156.122,-226.815\"/>\r\n",
       "</g>\r\n",
       "<!-- I_3 -->\r\n",
       "<g id=\"node4\" class=\"node\"><title>I_3</title>\r\n",
       "<ellipse fill=\"none\" stroke=\"black\" cx=\"123\" cy=\"-110.748\" rx=\"22.9987\" ry=\"22.9987\"/>\r\n",
       "<text text-anchor=\"middle\" x=\"123\" y=\"-107.048\" font-family=\"Times New Roman,serif\" font-size=\"14.00\">I_3</text>\r\n",
       "</g>\r\n",
       "<!-- I_2&#45;&gt;I_3 -->\r\n",
       "<g id=\"edge3\" class=\"edge\"><title>I_2&#45;&gt;I_3</title>\r\n",
       "<path fill=\"none\" stroke=\"black\" d=\"M156.573,-174.886C151.093,-164.581 144.274,-151.757 138.216,-140.364\"/>\r\n",
       "<polygon fill=\"black\" stroke=\"black\" points=\"141.138,-138.403 133.353,-131.217 134.957,-141.69 141.138,-138.403\"/>\r\n",
       "</g>\r\n",
       "<!-- I_4 -->\r\n",
       "<g id=\"node7\" class=\"node\"><title>I_4</title>\r\n",
       "<ellipse fill=\"none\" stroke=\"black\" cx=\"211\" cy=\"-110.748\" rx=\"22.9987\" ry=\"22.9987\"/>\r\n",
       "<text text-anchor=\"middle\" x=\"211\" y=\"-107.048\" font-family=\"Times New Roman,serif\" font-size=\"14.00\">I_4</text>\r\n",
       "</g>\r\n",
       "<!-- I_2&#45;&gt;I_4 -->\r\n",
       "<g id=\"edge6\" class=\"edge\"><title>I_2&#45;&gt;I_4</title>\r\n",
       "<path fill=\"none\" stroke=\"black\" d=\"M177.427,-174.886C182.907,-164.581 189.726,-151.757 195.784,-140.364\"/>\r\n",
       "<polygon fill=\"black\" stroke=\"black\" points=\"199.043,-141.69 200.647,-131.217 192.862,-138.403 199.043,-141.69\"/>\r\n",
       "</g>\r\n",
       "<!-- 2 -->\r\n",
       "<g id=\"node5\" class=\"node\"><title>2</title>\r\n",
       "<polygon fill=\"none\" stroke=\"black\" points=\"62,-18.5442 62,-33.4558 46.1838,-44 23.8162,-44 8,-33.4558 8,-18.5442 23.8162,-8 46.1838,-8 62,-18.5442\"/>\r\n",
       "<polygon fill=\"none\" stroke=\"black\" points=\"66,-16.4034 66,-35.5966 47.3949,-48 22.6051,-48 4,-35.5966 4,-16.4034 22.6051,-4 47.3949,-4 66,-16.4034\"/>\r\n",
       "<polygon fill=\"none\" stroke=\"black\" points=\"70,-14.2627 70,-37.7373 48.606,-52 21.394,-52 1.42109e-014,-37.7373 7.10543e-015,-14.2627 21.394,-3.55271e-015 48.606,-0 70,-14.2627\"/>\r\n",
       "<text text-anchor=\"middle\" x=\"35\" y=\"-22.3\" font-family=\"Times New Roman,serif\" font-size=\"14.00\">2</text>\r\n",
       "</g>\r\n",
       "<!-- I_3&#45;&gt;2 -->\r\n",
       "<g id=\"edge4\" class=\"edge\"><title>I_3&#45;&gt;2</title>\r\n",
       "<path fill=\"none\" stroke=\"black\" d=\"M106.859,-94.5707C94.8858,-83.3117 78.2362,-67.6558 63.9782,-54.2487\"/>\r\n",
       "<polygon fill=\"black\" stroke=\"black\" points=\"66.0307,-51.3744 56.348,-47.0739 61.2355,-56.474 66.0307,-51.3744\"/>\r\n",
       "</g>\r\n",
       "<!-- 5 -->\r\n",
       "<g id=\"node6\" class=\"node\"><title>5</title>\r\n",
       "<polygon fill=\"none\" stroke=\"black\" points=\"150,-18.5442 150,-33.4558 134.184,-44 111.816,-44 96,-33.4558 96,-18.5442 111.816,-8 134.184,-8 150,-18.5442\"/>\r\n",
       "<polygon fill=\"none\" stroke=\"black\" points=\"154,-16.4034 154,-35.5966 135.395,-48 110.605,-48 92,-35.5966 92,-16.4034 110.605,-4 135.395,-4 154,-16.4034\"/>\r\n",
       "<polygon fill=\"none\" stroke=\"black\" points=\"158,-14.2627 158,-37.7373 136.606,-52 109.394,-52 88,-37.7373 88,-14.2627 109.394,-3.55271e-015 136.606,-0 158,-14.2627\"/>\r\n",
       "<text text-anchor=\"middle\" x=\"123\" y=\"-22.3\" font-family=\"Times New Roman,serif\" font-size=\"14.00\">5</text>\r\n",
       "</g>\r\n",
       "<!-- I_3&#45;&gt;5 -->\r\n",
       "<g id=\"edge5\" class=\"edge\"><title>I_3&#45;&gt;5</title>\r\n",
       "<path fill=\"none\" stroke=\"black\" d=\"M123,-87.573C123,-79.8131 123,-70.8955 123,-62.3309\"/>\r\n",
       "<polygon fill=\"black\" stroke=\"black\" points=\"126.5,-62.1606 123,-52.1606 119.5,-62.1607 126.5,-62.1606\"/>\r\n",
       "</g>\r\n",
       "<!-- 4 -->\r\n",
       "<g id=\"node8\" class=\"node\"><title>4</title>\r\n",
       "<polygon fill=\"none\" stroke=\"black\" points=\"238,-18.5442 238,-33.4558 222.184,-44 199.816,-44 184,-33.4558 184,-18.5442 199.816,-8 222.184,-8 238,-18.5442\"/>\r\n",
       "<polygon fill=\"none\" stroke=\"black\" points=\"242,-16.4034 242,-35.5966 223.395,-48 198.605,-48 180,-35.5966 180,-16.4034 198.605,-4 223.395,-4 242,-16.4034\"/>\r\n",
       "<polygon fill=\"none\" stroke=\"black\" points=\"246,-14.2627 246,-37.7373 224.606,-52 197.394,-52 176,-37.7373 176,-14.2627 197.394,-3.55271e-015 224.606,-0 246,-14.2627\"/>\r\n",
       "<text text-anchor=\"middle\" x=\"211\" y=\"-22.3\" font-family=\"Times New Roman,serif\" font-size=\"14.00\">4</text>\r\n",
       "</g>\r\n",
       "<!-- I_4&#45;&gt;4 -->\r\n",
       "<g id=\"edge7\" class=\"edge\"><title>I_4&#45;&gt;4</title>\r\n",
       "<path fill=\"none\" stroke=\"black\" d=\"M211,-87.573C211,-79.8131 211,-70.8955 211,-62.3309\"/>\r\n",
       "<polygon fill=\"black\" stroke=\"black\" points=\"214.5,-62.1606 211,-52.1606 207.5,-62.1607 214.5,-62.1606\"/>\r\n",
       "</g>\r\n",
       "<!-- 3 -->\r\n",
       "<g id=\"node9\" class=\"node\"><title>3</title>\r\n",
       "<polygon fill=\"none\" stroke=\"black\" points=\"326,-18.5442 326,-33.4558 310.184,-44 287.816,-44 272,-33.4558 272,-18.5442 287.816,-8 310.184,-8 326,-18.5442\"/>\r\n",
       "<polygon fill=\"none\" stroke=\"black\" points=\"330,-16.4034 330,-35.5966 311.395,-48 286.605,-48 268,-35.5966 268,-16.4034 286.605,-4 311.395,-4 330,-16.4034\"/>\r\n",
       "<polygon fill=\"none\" stroke=\"black\" points=\"334,-14.2627 334,-37.7373 312.606,-52 285.394,-52 264,-37.7373 264,-14.2627 285.394,-3.55271e-015 312.606,-0 334,-14.2627\"/>\r\n",
       "<text text-anchor=\"middle\" x=\"299\" y=\"-22.3\" font-family=\"Times New Roman,serif\" font-size=\"14.00\">3</text>\r\n",
       "</g>\r\n",
       "<!-- I_4&#45;&gt;3 -->\r\n",
       "<g id=\"edge8\" class=\"edge\"><title>I_4&#45;&gt;3</title>\r\n",
       "<path fill=\"none\" stroke=\"black\" d=\"M227.141,-94.5707C239.114,-83.3117 255.764,-67.6558 270.022,-54.2487\"/>\r\n",
       "<polygon fill=\"black\" stroke=\"black\" points=\"272.765,-56.474 277.652,-47.0739 267.969,-51.3744 272.765,-56.474\"/>\r\n",
       "</g>\r\n",
       "</g>\r\n",
       "</svg>\r\n"
      ],
      "text/plain": [
       "<graphviz.dot.Digraph at 0x2510386f978>"
      ]
     },
     "execution_count": 15,
     "metadata": {},
     "output_type": "execute_result"
    }
   ],
   "source": [
    "from graphviz import Digraph\n",
    "dot = Digraph()\n",
    "\n",
    "N = 5\n",
    "global cpt\n",
    "cpt = 2\n",
    "\n",
    "def generateDigraph(tree, graph):\n",
    "    global cpt\n",
    "    \n",
    "    if (tree == None):\n",
    "        return\n",
    "    \n",
    "    root = str(tree.data)\n",
    "    \n",
    "    right = tree.right\n",
    "    left = tree.left\n",
    "    \n",
    "    if (right != None):\n",
    "        if (right.data == None):\n",
    "            right.data = \"I_\"+str(cpt)\n",
    "            cpt+=1\n",
    "\n",
    "        leaf = True if (right.left == None and right.right == None) else False\n",
    "        graph.node(str(right.data), shape='tripleoctagon' if leaf else 'circle')\n",
    "        graph.edge(root, str(right.data))\n",
    "        generateDigraph(tree.right, graph)\n",
    "    \n",
    "    if (left != None):\n",
    "        if (left.data == None):\n",
    "            left.data = \"I_\"+str(cpt)\n",
    "            cpt+=1\n",
    "        \n",
    "        leaf = True if (left.left == None and left.right == None) else False\n",
    "        graph.node(str(left.data), shape='tripleoctagon' if leaf else 'circle')\n",
    "        graph.edge(root, str(left.data))\n",
    "        generateDigraph(tree.left, graph)\n",
    "\n",
    "testTree = gen_remy(N)\n",
    "testTree.data = \"I_1\"\n",
    "dot.node(testTree.data, shape='invhouse')\n",
    "generateDigraph(testTree, dot)\n",
    "\n",
    "dot"
   ]
  },
  {
   "cell_type": "code",
   "execution_count": null,
   "metadata": {},
   "outputs": [],
   "source": []
  }
 ],
 "metadata": {
  "kernelspec": {
   "display_name": "Python 3",
   "language": "python",
   "name": "python3"
  },
  "language_info": {
   "codemirror_mode": {
    "name": "ipython",
    "version": 3
   },
   "file_extension": ".py",
   "mimetype": "text/x-python",
   "name": "python",
   "nbconvert_exporter": "python",
   "pygments_lexer": "ipython3",
   "version": "3.7.3"
  }
 },
 "nbformat": 4,
 "nbformat_minor": 4
}
